{
 "cells": [
  {
   "cell_type": "markdown",
   "metadata": {},
   "source": [
    "### Importing Packages"
   ]
  },
  {
   "cell_type": "code",
   "execution_count": 1,
   "metadata": {},
   "outputs": [],
   "source": [
    "import numpy as np\n",
    "import pandas as pd\n",
    "import matplotlib.pyplot as plt\n",
    "import seaborn as sns\n",
    "sns.set_style('whitegrid')\n",
    "%matplotlib inline \n",
    "\n",
    "from sklearn.linear_model import LogisticRegression, Lasso\n",
    "from sklearn.model_selection import train_test_split\n",
    "from sklearn.metrics import precision_score, recall_score, f1_score, accuracy_score, roc_auc_score\n",
    "from sklearn.metrics import confusion_matrix\n",
    "from sklearn.preprocessing import StandardScaler\n",
    "from sklearn.feature_selection import SelectFromModel\n",
    "from sklearn.model_selection import KFold, cross_val_score\n",
    "from sklearn.neighbors import KNeighborsClassifier\n",
    "from sklearn.naive_bayes import BernoulliNB, MultinomialNB, GaussianNB\n",
    "from sklearn.tree import DecisionTreeClassifier\n",
    "from sklearn.svm import LinearSVC\n",
    "from sklearn.svm import SVC\n",
    "from sklearn.ensemble import RandomForestClassifier\n",
    "from sklearn.metrics import confusion_matrix, classification_report\n",
    "from sklearn.metrics import precision_recall_curve\n",
    "\n",
    "import warnings\n",
    "warnings.filterwarnings('ignore')"
   ]
  },
  {
   "cell_type": "markdown",
   "metadata": {},
   "source": [
    "### Loading data"
   ]
  },
  {
   "cell_type": "code",
   "execution_count": 2,
   "metadata": {},
   "outputs": [
    {
     "data": {
      "text/html": [
       "<div>\n",
       "<style scoped>\n",
       "    .dataframe tbody tr th:only-of-type {\n",
       "        vertical-align: middle;\n",
       "    }\n",
       "\n",
       "    .dataframe tbody tr th {\n",
       "        vertical-align: top;\n",
       "    }\n",
       "\n",
       "    .dataframe thead th {\n",
       "        text-align: right;\n",
       "    }\n",
       "</style>\n",
       "<table border=\"1\" class=\"dataframe\">\n",
       "  <thead>\n",
       "    <tr style=\"text-align: right;\">\n",
       "      <th></th>\n",
       "      <th>admit</th>\n",
       "      <th>gre</th>\n",
       "      <th>gpa</th>\n",
       "      <th>ses</th>\n",
       "      <th>Gender_Male</th>\n",
       "      <th>Race</th>\n",
       "      <th>rank</th>\n",
       "    </tr>\n",
       "  </thead>\n",
       "  <tbody>\n",
       "    <tr>\n",
       "      <th>0</th>\n",
       "      <td>0</td>\n",
       "      <td>380</td>\n",
       "      <td>3.61</td>\n",
       "      <td>1</td>\n",
       "      <td>0</td>\n",
       "      <td>3</td>\n",
       "      <td>3</td>\n",
       "    </tr>\n",
       "    <tr>\n",
       "      <th>1</th>\n",
       "      <td>1</td>\n",
       "      <td>660</td>\n",
       "      <td>3.67</td>\n",
       "      <td>2</td>\n",
       "      <td>0</td>\n",
       "      <td>2</td>\n",
       "      <td>3</td>\n",
       "    </tr>\n",
       "    <tr>\n",
       "      <th>2</th>\n",
       "      <td>1</td>\n",
       "      <td>800</td>\n",
       "      <td>4.00</td>\n",
       "      <td>2</td>\n",
       "      <td>0</td>\n",
       "      <td>2</td>\n",
       "      <td>1</td>\n",
       "    </tr>\n",
       "    <tr>\n",
       "      <th>3</th>\n",
       "      <td>1</td>\n",
       "      <td>640</td>\n",
       "      <td>3.19</td>\n",
       "      <td>1</td>\n",
       "      <td>1</td>\n",
       "      <td>2</td>\n",
       "      <td>4</td>\n",
       "    </tr>\n",
       "    <tr>\n",
       "      <th>4</th>\n",
       "      <td>0</td>\n",
       "      <td>520</td>\n",
       "      <td>2.93</td>\n",
       "      <td>3</td>\n",
       "      <td>1</td>\n",
       "      <td>2</td>\n",
       "      <td>4</td>\n",
       "    </tr>\n",
       "  </tbody>\n",
       "</table>\n",
       "</div>"
      ],
      "text/plain": [
       "   admit  gre   gpa  ses  Gender_Male  Race  rank\n",
       "0      0  380  3.61    1            0     3     3\n",
       "1      1  660  3.67    2            0     2     3\n",
       "2      1  800  4.00    2            0     2     1\n",
       "3      1  640  3.19    1            1     2     4\n",
       "4      0  520  2.93    3            1     2     4"
      ]
     },
     "execution_count": 2,
     "metadata": {},
     "output_type": "execute_result"
    }
   ],
   "source": [
    "raw_data = pd.read_excel('Admission.xlsx')\n",
    "raw_data.head()"
   ]
  },
  {
   "cell_type": "code",
   "execution_count": 3,
   "metadata": {},
   "outputs": [],
   "source": [
    "data = raw_data.copy()"
   ]
  },
  {
   "cell_type": "code",
   "execution_count": 4,
   "metadata": {},
   "outputs": [
    {
     "name": "stdout",
     "output_type": "stream",
     "text": [
      "     admit  gre   gpa  ses  Gender_Male  Race  rank new_ses\n",
      "0        0  380  3.61    1            0     3     3     low\n",
      "1        1  660  3.67    2            0     2     3  medium\n",
      "2        1  800  4.00    2            0     2     1  medium\n",
      "3        1  640  3.19    1            1     2     4     low\n",
      "4        0  520  2.93    3            1     2     4    high\n",
      "..     ...  ...   ...  ...          ...   ...   ...     ...\n",
      "395      0  620  4.00    2            0     2     2  medium\n",
      "396      0  560  3.04    2            0     1     3  medium\n",
      "397      0  460  2.63    3            0     2     2    high\n",
      "398      0  700  3.65    1            1     1     2     low\n",
      "399      0  600  3.89    2            1     3     3  medium\n",
      "\n",
      "[400 rows x 8 columns]\n"
     ]
    }
   ],
   "source": [
    "s = pd.to_numeric(data['ses'], errors='coerce')\n",
    "m1 = (s == 1)\n",
    "m2 = (s == 2)\n",
    "m3 = (s == 3)\n",
    "masks = [m1,m2,m3]\n",
    "vals = ['low','medium','high']\n",
    "data['new_ses'] = np.select(masks, vals, default=1)\n",
    "print(data)"
   ]
  },
  {
   "cell_type": "code",
   "execution_count": 5,
   "metadata": {},
   "outputs": [
    {
     "name": "stdout",
     "output_type": "stream",
     "text": [
      "     admit  gre   gpa  ses  Gender_Male  Race  rank new_ses          new_race\n",
      "0        0  380  3.61    1            0     3     3     low  African-American\n",
      "1        1  660  3.67    2            0     2     3  medium             Asian\n",
      "2        1  800  4.00    2            0     2     1  medium             Asian\n",
      "3        1  640  3.19    1            1     2     4     low             Asian\n",
      "4        0  520  2.93    3            1     2     4    high             Asian\n",
      "..     ...  ...   ...  ...          ...   ...   ...     ...               ...\n",
      "395      0  620  4.00    2            0     2     2  medium             Asian\n",
      "396      0  560  3.04    2            0     1     3  medium          Hispanic\n",
      "397      0  460  2.63    3            0     2     2    high             Asian\n",
      "398      0  700  3.65    1            1     1     2     low          Hispanic\n",
      "399      0  600  3.89    2            1     3     3  medium  African-American\n",
      "\n",
      "[400 rows x 9 columns]\n"
     ]
    }
   ],
   "source": [
    "s1 = pd.to_numeric(data['Race'], errors='coerce')\n",
    "n1 = (s1 == 1)\n",
    "n2 = (s1 == 2)\n",
    "n3 = (s1 == 3)\n",
    "masks = [n1,n2,n3]\n",
    "vals = ['Hispanic','Asian','African-American']\n",
    "data['new_race'] = np.select(masks, vals, default=1)\n",
    "print(data)"
   ]
  },
  {
   "cell_type": "code",
   "execution_count": 6,
   "metadata": {},
   "outputs": [
    {
     "name": "stdout",
     "output_type": "stream",
     "text": [
      "     admit  gre   gpa  ses  Gender_Male  Race  rank new_ses          new_race  \\\n",
      "0        0  380  3.61    1            0     3     3     low  African-American   \n",
      "1        1  660  3.67    2            0     2     3  medium             Asian   \n",
      "2        1  800  4.00    2            0     2     1  medium             Asian   \n",
      "3        1  640  3.19    1            1     2     4     low             Asian   \n",
      "4        0  520  2.93    3            1     2     4    high             Asian   \n",
      "..     ...  ...   ...  ...          ...   ...   ...     ...               ...   \n",
      "395      0  620  4.00    2            0     2     2  medium             Asian   \n",
      "396      0  560  3.04    2            0     1     3  medium          Hispanic   \n",
      "397      0  460  2.63    3            0     2     2    high             Asian   \n",
      "398      0  700  3.65    1            1     1     2     low          Hispanic   \n",
      "399      0  600  3.89    2            1     3     3  medium  African-American   \n",
      "\n",
      "    new_rank  \n",
      "0          3  \n",
      "1          3  \n",
      "2          1  \n",
      "3          4  \n",
      "4          4  \n",
      "..       ...  \n",
      "395        2  \n",
      "396        3  \n",
      "397        2  \n",
      "398        2  \n",
      "399        3  \n",
      "\n",
      "[400 rows x 10 columns]\n"
     ]
    }
   ],
   "source": [
    "s2 = pd.to_numeric(data['rank'], errors='coerce')\n",
    "k1 = (s2 == 1)\n",
    "k2 = (s2 == 2)\n",
    "k3 = (s2 == 3)\n",
    "k4 = (s2 == 4)\n",
    "masks = [k1,k2,k3,k4]\n",
    "vals = ['1','2','3','4']\n",
    "data['new_rank'] = np.select(masks, vals, default=1)\n",
    "print(data)"
   ]
  },
  {
   "cell_type": "code",
   "execution_count": 7,
   "metadata": {},
   "outputs": [
    {
     "name": "stdout",
     "output_type": "stream",
     "text": [
      "     admit  gre   gpa  ses  Gender_Male  Race  rank new_ses          new_race  \\\n",
      "0        0  380  3.61    1            0     3     3     low  African-American   \n",
      "1        1  660  3.67    2            0     2     3  medium             Asian   \n",
      "2        1  800  4.00    2            0     2     1  medium             Asian   \n",
      "3        1  640  3.19    1            1     2     4     low             Asian   \n",
      "4        0  520  2.93    3            1     2     4    high             Asian   \n",
      "..     ...  ...   ...  ...          ...   ...   ...     ...               ...   \n",
      "395      0  620  4.00    2            0     2     2  medium             Asian   \n",
      "396      0  560  3.04    2            0     1     3  medium          Hispanic   \n",
      "397      0  460  2.63    3            0     2     2    high             Asian   \n",
      "398      0  700  3.65    1            1     1     2     low          Hispanic   \n",
      "399      0  600  3.89    2            1     3     3  medium  African-American   \n",
      "\n",
      "    new_rank  gender  \n",
      "0          3  Female  \n",
      "1          3  Female  \n",
      "2          1  Female  \n",
      "3          4    Male  \n",
      "4          4    Male  \n",
      "..       ...     ...  \n",
      "395        2  Female  \n",
      "396        3  Female  \n",
      "397        2  Female  \n",
      "398        2    Male  \n",
      "399        3    Male  \n",
      "\n",
      "[400 rows x 11 columns]\n"
     ]
    }
   ],
   "source": [
    "s3 = pd.to_numeric(data['Gender_Male'], errors='coerce')\n",
    "j1 = (s3 == 0)\n",
    "j2 = (s3 == 1)\n",
    "masks = [j1,j2]\n",
    "vals = ['Female','Male']\n",
    "data['gender'] = np.select(masks, vals, default=1)\n",
    "print(data)"
   ]
  },
  {
   "cell_type": "code",
   "execution_count": 8,
   "metadata": {},
   "outputs": [
    {
     "name": "stdout",
     "output_type": "stream",
     "text": [
      "<class 'pandas.core.frame.DataFrame'>\n",
      "RangeIndex: 400 entries, 0 to 399\n",
      "Data columns (total 11 columns):\n",
      " #   Column       Non-Null Count  Dtype  \n",
      "---  ------       --------------  -----  \n",
      " 0   admit        400 non-null    int64  \n",
      " 1   gre          400 non-null    int64  \n",
      " 2   gpa          400 non-null    float64\n",
      " 3   ses          400 non-null    int64  \n",
      " 4   Gender_Male  400 non-null    int64  \n",
      " 5   Race         400 non-null    int64  \n",
      " 6   rank         400 non-null    int64  \n",
      " 7   new_ses      400 non-null    object \n",
      " 8   new_race     400 non-null    object \n",
      " 9   new_rank     400 non-null    object \n",
      " 10  gender       400 non-null    object \n",
      "dtypes: float64(1), int64(6), object(4)\n",
      "memory usage: 34.5+ KB\n"
     ]
    }
   ],
   "source": [
    "data.info()"
   ]
  },
  {
   "cell_type": "code",
   "execution_count": 9,
   "metadata": {},
   "outputs": [],
   "source": [
    "data.drop(['ses','Race','rank','Gender_Male'], axis=1, inplace=True)"
   ]
  },
  {
   "cell_type": "code",
   "execution_count": 10,
   "metadata": {},
   "outputs": [
    {
     "data": {
      "text/html": [
       "<div>\n",
       "<style scoped>\n",
       "    .dataframe tbody tr th:only-of-type {\n",
       "        vertical-align: middle;\n",
       "    }\n",
       "\n",
       "    .dataframe tbody tr th {\n",
       "        vertical-align: top;\n",
       "    }\n",
       "\n",
       "    .dataframe thead th {\n",
       "        text-align: right;\n",
       "    }\n",
       "</style>\n",
       "<table border=\"1\" class=\"dataframe\">\n",
       "  <thead>\n",
       "    <tr style=\"text-align: right;\">\n",
       "      <th></th>\n",
       "      <th>admit</th>\n",
       "      <th>gre</th>\n",
       "      <th>gpa</th>\n",
       "      <th>new_ses</th>\n",
       "      <th>new_race</th>\n",
       "      <th>new_rank</th>\n",
       "      <th>gender</th>\n",
       "    </tr>\n",
       "  </thead>\n",
       "  <tbody>\n",
       "    <tr>\n",
       "      <th>0</th>\n",
       "      <td>0</td>\n",
       "      <td>380</td>\n",
       "      <td>3.61</td>\n",
       "      <td>low</td>\n",
       "      <td>African-American</td>\n",
       "      <td>3</td>\n",
       "      <td>Female</td>\n",
       "    </tr>\n",
       "    <tr>\n",
       "      <th>1</th>\n",
       "      <td>1</td>\n",
       "      <td>660</td>\n",
       "      <td>3.67</td>\n",
       "      <td>medium</td>\n",
       "      <td>Asian</td>\n",
       "      <td>3</td>\n",
       "      <td>Female</td>\n",
       "    </tr>\n",
       "    <tr>\n",
       "      <th>2</th>\n",
       "      <td>1</td>\n",
       "      <td>800</td>\n",
       "      <td>4.00</td>\n",
       "      <td>medium</td>\n",
       "      <td>Asian</td>\n",
       "      <td>1</td>\n",
       "      <td>Female</td>\n",
       "    </tr>\n",
       "    <tr>\n",
       "      <th>3</th>\n",
       "      <td>1</td>\n",
       "      <td>640</td>\n",
       "      <td>3.19</td>\n",
       "      <td>low</td>\n",
       "      <td>Asian</td>\n",
       "      <td>4</td>\n",
       "      <td>Male</td>\n",
       "    </tr>\n",
       "    <tr>\n",
       "      <th>4</th>\n",
       "      <td>0</td>\n",
       "      <td>520</td>\n",
       "      <td>2.93</td>\n",
       "      <td>high</td>\n",
       "      <td>Asian</td>\n",
       "      <td>4</td>\n",
       "      <td>Male</td>\n",
       "    </tr>\n",
       "  </tbody>\n",
       "</table>\n",
       "</div>"
      ],
      "text/plain": [
       "   admit  gre   gpa new_ses          new_race new_rank  gender\n",
       "0      0  380  3.61     low  African-American        3  Female\n",
       "1      1  660  3.67  medium             Asian        3  Female\n",
       "2      1  800  4.00  medium             Asian        1  Female\n",
       "3      1  640  3.19     low             Asian        4    Male\n",
       "4      0  520  2.93    high             Asian        4    Male"
      ]
     },
     "execution_count": 10,
     "metadata": {},
     "output_type": "execute_result"
    }
   ],
   "source": [
    "data.head()"
   ]
  },
  {
   "cell_type": "markdown",
   "metadata": {},
   "source": [
    "### Exploratory Data Analysis"
   ]
  },
  {
   "cell_type": "code",
   "execution_count": 11,
   "metadata": {},
   "outputs": [
    {
     "data": {
      "text/html": [
       "<div>\n",
       "<style scoped>\n",
       "    .dataframe tbody tr th:only-of-type {\n",
       "        vertical-align: middle;\n",
       "    }\n",
       "\n",
       "    .dataframe tbody tr th {\n",
       "        vertical-align: top;\n",
       "    }\n",
       "\n",
       "    .dataframe thead th {\n",
       "        text-align: right;\n",
       "    }\n",
       "</style>\n",
       "<table border=\"1\" class=\"dataframe\">\n",
       "  <thead>\n",
       "    <tr style=\"text-align: right;\">\n",
       "      <th></th>\n",
       "      <th>admit</th>\n",
       "      <th>gre</th>\n",
       "      <th>gpa</th>\n",
       "    </tr>\n",
       "  </thead>\n",
       "  <tbody>\n",
       "    <tr>\n",
       "      <th>admit</th>\n",
       "      <td>1.000000</td>\n",
       "      <td>0.184434</td>\n",
       "      <td>0.178212</td>\n",
       "    </tr>\n",
       "    <tr>\n",
       "      <th>gre</th>\n",
       "      <td>0.184434</td>\n",
       "      <td>1.000000</td>\n",
       "      <td>0.384266</td>\n",
       "    </tr>\n",
       "    <tr>\n",
       "      <th>gpa</th>\n",
       "      <td>0.178212</td>\n",
       "      <td>0.384266</td>\n",
       "      <td>1.000000</td>\n",
       "    </tr>\n",
       "  </tbody>\n",
       "</table>\n",
       "</div>"
      ],
      "text/plain": [
       "          admit       gre       gpa\n",
       "admit  1.000000  0.184434  0.178212\n",
       "gre    0.184434  1.000000  0.384266\n",
       "gpa    0.178212  0.384266  1.000000"
      ]
     },
     "execution_count": 11,
     "metadata": {},
     "output_type": "execute_result"
    }
   ],
   "source": [
    "data.corr()"
   ]
  },
  {
   "cell_type": "code",
   "execution_count": 12,
   "metadata": {},
   "outputs": [
    {
     "data": {
      "image/png": "[encoded data removed]",
      "text/plain": [
       "<Figure size 432x288 with 2 Axes>"
      ]
     },
     "metadata": {
      "needs_background": "light"
     },
     "output_type": "display_data"
    }
   ],
   "source": [
    "sns.heatmap(data.corr(), cmap=\"seismic\", annot=True, vmin=-1, vmax=1);"
   ]
  },
  {
   "cell_type": "code",
   "execution_count": 13,
   "metadata": {},
   "outputs": [
    {
     "data": {
      "image/png": "[encoded data removed]",
      "text/plain": [
       "<Figure size 819.225x518.4 with 42 Axes>"
      ]
     },
     "metadata": {
      "needs_background": "light"
     },
     "output_type": "display_data"
    }
   ],
   "source": [
    "sns.pairplot(raw_data, hue='admit', height=1.2, aspect=1.5);"
   ]
  },
  {
   "cell_type": "code",
   "execution_count": 14,
   "metadata": {},
   "outputs": [],
   "source": [
    "# Since there is colinearity between gre and gpa, therefore gpa will be dropped.\n",
    "data_no_corr = data.copy()"
   ]
  },
  {
   "cell_type": "code",
   "execution_count": 15,
   "metadata": {},
   "outputs": [],
   "source": [
    "data_no_corr.drop(['gpa'], axis=1, inplace=True)"
   ]
  },
  {
   "cell_type": "code",
   "execution_count": 16,
   "metadata": {
    "scrolled": true
   },
   "outputs": [
    {
     "data": {
      "text/html": [
       "<div>\n",
       "<style scoped>\n",
       "    .dataframe tbody tr th:only-of-type {\n",
       "        vertical-align: middle;\n",
       "    }\n",
       "\n",
       "    .dataframe tbody tr th {\n",
       "        vertical-align: top;\n",
       "    }\n",
       "\n",
       "    .dataframe thead th {\n",
       "        text-align: right;\n",
       "    }\n",
       "</style>\n",
       "<table border=\"1\" class=\"dataframe\">\n",
       "  <thead>\n",
       "    <tr style=\"text-align: right;\">\n",
       "      <th></th>\n",
       "      <th>admit</th>\n",
       "      <th>gre</th>\n",
       "      <th>new_ses</th>\n",
       "      <th>new_race</th>\n",
       "      <th>new_rank</th>\n",
       "      <th>gender</th>\n",
       "    </tr>\n",
       "  </thead>\n",
       "  <tbody>\n",
       "    <tr>\n",
       "      <th>0</th>\n",
       "      <td>0</td>\n",
       "      <td>380</td>\n",
       "      <td>low</td>\n",
       "      <td>African-American</td>\n",
       "      <td>3</td>\n",
       "      <td>Female</td>\n",
       "    </tr>\n",
       "    <tr>\n",
       "      <th>1</th>\n",
       "      <td>1</td>\n",
       "      <td>660</td>\n",
       "      <td>medium</td>\n",
       "      <td>Asian</td>\n",
       "      <td>3</td>\n",
       "      <td>Female</td>\n",
       "    </tr>\n",
       "    <tr>\n",
       "      <th>2</th>\n",
       "      <td>1</td>\n",
       "      <td>800</td>\n",
       "      <td>medium</td>\n",
       "      <td>Asian</td>\n",
       "      <td>1</td>\n",
       "      <td>Female</td>\n",
       "    </tr>\n",
       "    <tr>\n",
       "      <th>3</th>\n",
       "      <td>1</td>\n",
       "      <td>640</td>\n",
       "      <td>low</td>\n",
       "      <td>Asian</td>\n",
       "      <td>4</td>\n",
       "      <td>Male</td>\n",
       "    </tr>\n",
       "    <tr>\n",
       "      <th>4</th>\n",
       "      <td>0</td>\n",
       "      <td>520</td>\n",
       "      <td>high</td>\n",
       "      <td>Asian</td>\n",
       "      <td>4</td>\n",
       "      <td>Male</td>\n",
       "    </tr>\n",
       "  </tbody>\n",
       "</table>\n",
       "</div>"
      ],
      "text/plain": [
       "   admit  gre new_ses          new_race new_rank  gender\n",
       "0      0  380     low  African-American        3  Female\n",
       "1      1  660  medium             Asian        3  Female\n",
       "2      1  800  medium             Asian        1  Female\n",
       "3      1  640     low             Asian        4    Male\n",
       "4      0  520    high             Asian        4    Male"
      ]
     },
     "execution_count": 16,
     "metadata": {},
     "output_type": "execute_result"
    }
   ],
   "source": [
    "data_no_corr.head()"
   ]
  },
  {
   "cell_type": "code",
   "execution_count": 17,
   "metadata": {},
   "outputs": [
    {
     "data": {
      "text/html": [
       "<div>\n",
       "<style scoped>\n",
       "    .dataframe tbody tr th:only-of-type {\n",
       "        vertical-align: middle;\n",
       "    }\n",
       "\n",
       "    .dataframe tbody tr th {\n",
       "        vertical-align: top;\n",
       "    }\n",
       "\n",
       "    .dataframe thead th {\n",
       "        text-align: right;\n",
       "    }\n",
       "</style>\n",
       "<table border=\"1\" class=\"dataframe\">\n",
       "  <thead>\n",
       "    <tr style=\"text-align: right;\">\n",
       "      <th></th>\n",
       "      <th>admit</th>\n",
       "      <th>gre</th>\n",
       "      <th>new_ses</th>\n",
       "      <th>new_race</th>\n",
       "      <th>new_rank</th>\n",
       "      <th>gender</th>\n",
       "    </tr>\n",
       "  </thead>\n",
       "  <tbody>\n",
       "    <tr>\n",
       "      <th>count</th>\n",
       "      <td>400.000000</td>\n",
       "      <td>400.000000</td>\n",
       "      <td>400</td>\n",
       "      <td>400</td>\n",
       "      <td>400</td>\n",
       "      <td>400</td>\n",
       "    </tr>\n",
       "    <tr>\n",
       "      <th>unique</th>\n",
       "      <td>NaN</td>\n",
       "      <td>NaN</td>\n",
       "      <td>3</td>\n",
       "      <td>3</td>\n",
       "      <td>4</td>\n",
       "      <td>2</td>\n",
       "    </tr>\n",
       "    <tr>\n",
       "      <th>top</th>\n",
       "      <td>NaN</td>\n",
       "      <td>NaN</td>\n",
       "      <td>medium</td>\n",
       "      <td>Hispanic</td>\n",
       "      <td>2</td>\n",
       "      <td>Female</td>\n",
       "    </tr>\n",
       "    <tr>\n",
       "      <th>freq</th>\n",
       "      <td>NaN</td>\n",
       "      <td>NaN</td>\n",
       "      <td>139</td>\n",
       "      <td>143</td>\n",
       "      <td>151</td>\n",
       "      <td>210</td>\n",
       "    </tr>\n",
       "    <tr>\n",
       "      <th>mean</th>\n",
       "      <td>0.317500</td>\n",
       "      <td>587.700000</td>\n",
       "      <td>NaN</td>\n",
       "      <td>NaN</td>\n",
       "      <td>NaN</td>\n",
       "      <td>NaN</td>\n",
       "    </tr>\n",
       "    <tr>\n",
       "      <th>std</th>\n",
       "      <td>0.466087</td>\n",
       "      <td>115.516536</td>\n",
       "      <td>NaN</td>\n",
       "      <td>NaN</td>\n",
       "      <td>NaN</td>\n",
       "      <td>NaN</td>\n",
       "    </tr>\n",
       "    <tr>\n",
       "      <th>min</th>\n",
       "      <td>0.000000</td>\n",
       "      <td>220.000000</td>\n",
       "      <td>NaN</td>\n",
       "      <td>NaN</td>\n",
       "      <td>NaN</td>\n",
       "      <td>NaN</td>\n",
       "    </tr>\n",
       "    <tr>\n",
       "      <th>25%</th>\n",
       "      <td>0.000000</td>\n",
       "      <td>520.000000</td>\n",
       "      <td>NaN</td>\n",
       "      <td>NaN</td>\n",
       "      <td>NaN</td>\n",
       "      <td>NaN</td>\n",
       "    </tr>\n",
       "    <tr>\n",
       "      <th>50%</th>\n",
       "      <td>0.000000</td>\n",
       "      <td>580.000000</td>\n",
       "      <td>NaN</td>\n",
       "      <td>NaN</td>\n",
       "      <td>NaN</td>\n",
       "      <td>NaN</td>\n",
       "    </tr>\n",
       "    <tr>\n",
       "      <th>75%</th>\n",
       "      <td>1.000000</td>\n",
       "      <td>660.000000</td>\n",
       "      <td>NaN</td>\n",
       "      <td>NaN</td>\n",
       "      <td>NaN</td>\n",
       "      <td>NaN</td>\n",
       "    </tr>\n",
       "    <tr>\n",
       "      <th>max</th>\n",
       "      <td>1.000000</td>\n",
       "      <td>800.000000</td>\n",
       "      <td>NaN</td>\n",
       "      <td>NaN</td>\n",
       "      <td>NaN</td>\n",
       "      <td>NaN</td>\n",
       "    </tr>\n",
       "  </tbody>\n",
       "</table>\n",
       "</div>"
      ],
      "text/plain": [
       "             admit         gre new_ses  new_race new_rank  gender\n",
       "count   400.000000  400.000000     400       400      400     400\n",
       "unique         NaN         NaN       3         3        4       2\n",
       "top            NaN         NaN  medium  Hispanic        2  Female\n",
       "freq           NaN         NaN     139       143      151     210\n",
       "mean      0.317500  587.700000     NaN       NaN      NaN     NaN\n",
       "std       0.466087  115.516536     NaN       NaN      NaN     NaN\n",
       "min       0.000000  220.000000     NaN       NaN      NaN     NaN\n",
       "25%       0.000000  520.000000     NaN       NaN      NaN     NaN\n",
       "50%       0.000000  580.000000     NaN       NaN      NaN     NaN\n",
       "75%       1.000000  660.000000     NaN       NaN      NaN     NaN\n",
       "max       1.000000  800.000000     NaN       NaN      NaN     NaN"
      ]
     },
     "execution_count": 17,
     "metadata": {},
     "output_type": "execute_result"
    }
   ],
   "source": [
    "data_no_corr.describe(include='all')"
   ]
  },
  {
   "cell_type": "code",
   "execution_count": 18,
   "metadata": {},
   "outputs": [
    {
     "name": "stdout",
     "output_type": "stream",
     "text": [
      "Admit: 127, Admit %: 31.8\n",
      "Not admit: 273, Not admit %: 68.2\n"
     ]
    }
   ],
   "source": [
    "# Frequency of admit\n",
    "admit = data_no_corr['admit'].sum() \n",
    "not_admit = len(data_no_corr['admit']) - admit\n",
    "\n",
    "# Percentage of admit\n",
    "admit_perc = round(admit/len(data_no_corr['admit']) * 100, 1)\n",
    "not_admit_perc = round(not_admit/len(data_no_corr['admit']) * 100, 1)\n",
    "\n",
    "print(\"Admit: {}\".format(admit) + ', ' + \"Admit %: {}\".format(admit_perc))\n",
    "print(\"Not admit: {}\".format(not_admit) + ', ' + \"Not admit %: {}\".format(not_admit_perc))"
   ]
  },
  {
   "cell_type": "code",
   "execution_count": 19,
   "metadata": {},
   "outputs": [
    {
     "data": {
      "text/plain": [
       "Text(0.75, 10, 'Admit: 31.8%')"
      ]
     },
     "execution_count": 19,
     "metadata": {},
     "output_type": "execute_result"
    },
    {
     "data": {
      "image/png": "[encoded data removed]",
      "text/plain": [
       "<Figure size 432x288 with 1 Axes>"
      ]
     },
     "metadata": {
      "needs_background": "light"
     },
     "output_type": "display_data"
    }
   ],
   "source": [
    "sns.countplot(x='admit',data=data_no_corr,palette='RdBu_r')\n",
    "\n",
    "plt.annotate('Not admit: {}%'.format(not_admit_perc), xy=(-0.33, 10),size=15)\n",
    "plt.annotate('Admit: {}%'.format(admit_perc), xy=(0.75, 10),size=15)"
   ]
  },
  {
   "cell_type": "code",
   "execution_count": 20,
   "metadata": {},
   "outputs": [
    {
     "data": {
      "text/plain": [
       "<AxesSubplot:xlabel='admit', ylabel='count'>"
      ]
     },
     "execution_count": 20,
     "metadata": {},
     "output_type": "execute_result"
    },
    {
     "data": {
      "image/png": "[encoded data removed]",
      "text/plain": [
       "<Figure size 432x288 with 1 Axes>"
      ]
     },
     "metadata": {
      "needs_background": "light"
     },
     "output_type": "display_data"
    }
   ],
   "source": [
    "sns.countplot(x='admit',hue='gender',data=data_no_corr,palette='RdBu_r')"
   ]
  },
  {
   "cell_type": "code",
   "execution_count": 21,
   "metadata": {},
   "outputs": [
    {
     "data": {
      "text/plain": [
       "<AxesSubplot:xlabel='admit', ylabel='count'>"
      ]
     },
     "execution_count": 21,
     "metadata": {},
     "output_type": "execute_result"
    },
    {
     "data": {
      "image/png": "[encoded data removed]",
      "text/plain": [
       "<Figure size 432x288 with 1 Axes>"
      ]
     },
     "metadata": {
      "needs_background": "light"
     },
     "output_type": "display_data"
    }
   ],
   "source": [
    "sns.countplot(x='admit',hue='new_ses',data=data_no_corr,palette='rainbow')"
   ]
  },
  {
   "cell_type": "code",
   "execution_count": 22,
   "metadata": {},
   "outputs": [
    {
     "data": {
      "text/plain": [
       "<AxesSubplot:xlabel='admit', ylabel='count'>"
      ]
     },
     "execution_count": 22,
     "metadata": {},
     "output_type": "execute_result"
    },
    {
     "data": {
      "image/png": "[encoded data removed]",
      "text/plain": [
       "<Figure size 432x288 with 1 Axes>"
      ]
     },
     "metadata": {
      "needs_background": "light"
     },
     "output_type": "display_data"
    }
   ],
   "source": [
    "sns.countplot(x='admit',hue='new_race',data=data_no_corr,palette='rainbow')"
   ]
  },
  {
   "cell_type": "code",
   "execution_count": 23,
   "metadata": {},
   "outputs": [
    {
     "data": {
      "text/plain": [
       "<AxesSubplot:xlabel='admit', ylabel='count'>"
      ]
     },
     "execution_count": 23,
     "metadata": {},
     "output_type": "execute_result"
    },
    {
     "data": {
      "image/png": "[encoded data removed]",
      "text/plain": [
       "<Figure size 432x288 with 1 Axes>"
      ]
     },
     "metadata": {
      "needs_background": "light"
     },
     "output_type": "display_data"
    }
   ],
   "source": [
    "sns.countplot(x='admit',hue='new_rank',data=data_no_corr,palette='rainbow')"
   ]
  },
  {
   "cell_type": "code",
   "execution_count": 24,
   "metadata": {},
   "outputs": [
    {
     "data": {
      "text/plain": [
       "<AxesSubplot:xlabel='gre'>"
      ]
     },
     "execution_count": 24,
     "metadata": {},
     "output_type": "execute_result"
    },
    {
     "data": {
      "image/png": "[encoded data removed]",
      "text/plain": [
       "<Figure size 432x288 with 1 Axes>"
      ]
     },
     "metadata": {
      "needs_background": "light"
     },
     "output_type": "display_data"
    }
   ],
   "source": [
    "sns.distplot(data_no_corr['gre'],kde=True,color='darkred',bins=30)"
   ]
  },
  {
   "cell_type": "code",
   "execution_count": 25,
   "metadata": {},
   "outputs": [
    {
     "data": {
      "text/html": [
       "<div>\n",
       "<style scoped>\n",
       "    .dataframe tbody tr th:only-of-type {\n",
       "        vertical-align: middle;\n",
       "    }\n",
       "\n",
       "    .dataframe tbody tr th {\n",
       "        vertical-align: top;\n",
       "    }\n",
       "\n",
       "    .dataframe thead th {\n",
       "        text-align: right;\n",
       "    }\n",
       "</style>\n",
       "<table border=\"1\" class=\"dataframe\">\n",
       "  <thead>\n",
       "    <tr style=\"text-align: right;\">\n",
       "      <th></th>\n",
       "      <th>admit</th>\n",
       "      <th>gre</th>\n",
       "      <th>new_ses_low</th>\n",
       "      <th>new_ses_medium</th>\n",
       "      <th>new_race_Asian</th>\n",
       "      <th>new_race_Hispanic</th>\n",
       "      <th>new_rank_2</th>\n",
       "      <th>new_rank_3</th>\n",
       "      <th>new_rank_4</th>\n",
       "      <th>gender_Male</th>\n",
       "    </tr>\n",
       "  </thead>\n",
       "  <tbody>\n",
       "    <tr>\n",
       "      <th>0</th>\n",
       "      <td>0</td>\n",
       "      <td>380</td>\n",
       "      <td>1</td>\n",
       "      <td>0</td>\n",
       "      <td>0</td>\n",
       "      <td>0</td>\n",
       "      <td>0</td>\n",
       "      <td>1</td>\n",
       "      <td>0</td>\n",
       "      <td>0</td>\n",
       "    </tr>\n",
       "    <tr>\n",
       "      <th>1</th>\n",
       "      <td>1</td>\n",
       "      <td>660</td>\n",
       "      <td>0</td>\n",
       "      <td>1</td>\n",
       "      <td>1</td>\n",
       "      <td>0</td>\n",
       "      <td>0</td>\n",
       "      <td>1</td>\n",
       "      <td>0</td>\n",
       "      <td>0</td>\n",
       "    </tr>\n",
       "    <tr>\n",
       "      <th>2</th>\n",
       "      <td>1</td>\n",
       "      <td>800</td>\n",
       "      <td>0</td>\n",
       "      <td>1</td>\n",
       "      <td>1</td>\n",
       "      <td>0</td>\n",
       "      <td>0</td>\n",
       "      <td>0</td>\n",
       "      <td>0</td>\n",
       "      <td>0</td>\n",
       "    </tr>\n",
       "    <tr>\n",
       "      <th>3</th>\n",
       "      <td>1</td>\n",
       "      <td>640</td>\n",
       "      <td>1</td>\n",
       "      <td>0</td>\n",
       "      <td>1</td>\n",
       "      <td>0</td>\n",
       "      <td>0</td>\n",
       "      <td>0</td>\n",
       "      <td>1</td>\n",
       "      <td>1</td>\n",
       "    </tr>\n",
       "    <tr>\n",
       "      <th>4</th>\n",
       "      <td>0</td>\n",
       "      <td>520</td>\n",
       "      <td>0</td>\n",
       "      <td>0</td>\n",
       "      <td>1</td>\n",
       "      <td>0</td>\n",
       "      <td>0</td>\n",
       "      <td>0</td>\n",
       "      <td>1</td>\n",
       "      <td>1</td>\n",
       "    </tr>\n",
       "  </tbody>\n",
       "</table>\n",
       "</div>"
      ],
      "text/plain": [
       "   admit  gre  new_ses_low  new_ses_medium  new_race_Asian  new_race_Hispanic  \\\n",
       "0      0  380            1               0               0                  0   \n",
       "1      1  660            0               1               1                  0   \n",
       "2      1  800            0               1               1                  0   \n",
       "3      1  640            1               0               1                  0   \n",
       "4      0  520            0               0               1                  0   \n",
       "\n",
       "   new_rank_2  new_rank_3  new_rank_4  gender_Male  \n",
       "0           0           1           0            0  \n",
       "1           0           1           0            0  \n",
       "2           0           0           0            0  \n",
       "3           0           0           1            1  \n",
       "4           0           0           1            1  "
      ]
     },
     "execution_count": 25,
     "metadata": {},
     "output_type": "execute_result"
    }
   ],
   "source": [
    "# Create dummy variables\n",
    "data_with_dummy = pd.get_dummies(data_no_corr, drop_first = True)\n",
    "data_with_dummy.head()"
   ]
  },
  {
   "cell_type": "markdown",
   "metadata": {},
   "source": [
    "### Feature Selection"
   ]
  },
  {
   "cell_type": "code",
   "execution_count": 26,
   "metadata": {},
   "outputs": [],
   "source": [
    "X = data_with_dummy.iloc[:, 1:]\n",
    "y = data_with_dummy.iloc[:, 0]"
   ]
  },
  {
   "cell_type": "code",
   "execution_count": 27,
   "metadata": {},
   "outputs": [],
   "source": [
    "X_train, X_test, y_train, y_test = train_test_split(X, y, test_size=.2, random_state=10)"
   ]
  },
  {
   "cell_type": "code",
   "execution_count": 28,
   "metadata": {},
   "outputs": [],
   "source": [
    "## Scale the data \n",
    "std = StandardScaler()\n",
    "std.fit(X_train.values)\n",
    "\n",
    "## Scale the Predictors on both the train and test set\n",
    "X_train_scaled = std.transform(X_train.values)\n",
    "X_test_scaled = std.transform(X_test.values)"
   ]
  },
  {
   "cell_type": "code",
   "execution_count": 29,
   "metadata": {},
   "outputs": [
    {
     "data": {
      "text/plain": [
       "SelectFromModel(estimator=LogisticRegression(C=1, penalty='l1',\n",
       "                                             solver='liblinear'))"
      ]
     },
     "execution_count": 29,
     "metadata": {},
     "output_type": "execute_result"
    }
   ],
   "source": [
    "# Feature Selection\n",
    "sel_ = SelectFromModel(LogisticRegression(C=1, penalty='l1', solver='liblinear'))\n",
    "sel_.fit(X_train_scaled, y_train)"
   ]
  },
  {
   "cell_type": "code",
   "execution_count": 30,
   "metadata": {},
   "outputs": [
    {
     "data": {
      "text/plain": [
       "array([ True,  True,  True,  True,  True,  True,  True,  True,  True])"
      ]
     },
     "execution_count": 30,
     "metadata": {},
     "output_type": "execute_result"
    }
   ],
   "source": [
    "sel_.get_support()"
   ]
  },
  {
   "cell_type": "code",
   "execution_count": 31,
   "metadata": {},
   "outputs": [
    {
     "data": {
      "text/plain": [
       "Index(['gre', 'new_ses_low', 'new_ses_medium', 'new_race_Asian',\n",
       "       'new_race_Hispanic', 'new_rank_2', 'new_rank_3', 'new_rank_4',\n",
       "       'gender_Male'],\n",
       "      dtype='object')"
      ]
     },
     "execution_count": 31,
     "metadata": {},
     "output_type": "execute_result"
    }
   ],
   "source": [
    "selected_feat = X_train.columns[(sel_.get_support())]\n",
    "selected_feat"
   ]
  },
  {
   "cell_type": "markdown",
   "metadata": {},
   "source": [
    "### Cross Validation"
   ]
  },
  {
   "cell_type": "code",
   "execution_count": 32,
   "metadata": {},
   "outputs": [],
   "source": [
    "def cross_val(model, X, y, n_splits, name):\n",
    "    X_train, X_test, y_train, y_test = train_test_split(X, y, test_size=.2, random_state=10)\n",
    "    \n",
    "    cv = KFold(n_splits=n_splits, shuffle=True, random_state=365) \n",
    "    \n",
    "    accuracy     = np.mean(cross_val_score(model, X_train, y_train,cv=cv, scoring='accuracy'))\n",
    "    precision    = np.mean(cross_val_score(model, X_train, y_train,cv=cv, scoring='precision'))\n",
    "    recall       = np.mean(cross_val_score(model, X_train, y_train,cv=cv, scoring='recall'))\n",
    "    f1score      = np.mean(cross_val_score(model, X_train, y_train,cv=cv, scoring='f1'))\n",
    "    rocauc       = np.mean(cross_val_score(model, X_train, y_train,cv=cv, scoring='roc_auc'))\n",
    "    \n",
    "    df_model = pd.DataFrame({'model'        : [name],\n",
    "                             'accuracy'     : [accuracy],\n",
    "                             'precision'    : [precision],\n",
    "                             'recall'       : [recall],\n",
    "                             'f1score'      : [f1score],\n",
    "                             'rocauc'       : [rocauc]})\n",
    "    return df_model"
   ]
  },
  {
   "cell_type": "code",
   "execution_count": 33,
   "metadata": {},
   "outputs": [
    {
     "data": {
      "text/html": [
       "<div>\n",
       "<style scoped>\n",
       "    .dataframe tbody tr th:only-of-type {\n",
       "        vertical-align: middle;\n",
       "    }\n",
       "\n",
       "    .dataframe tbody tr th {\n",
       "        vertical-align: top;\n",
       "    }\n",
       "\n",
       "    .dataframe thead th {\n",
       "        text-align: right;\n",
       "    }\n",
       "</style>\n",
       "<table border=\"1\" class=\"dataframe\">\n",
       "  <thead>\n",
       "    <tr style=\"text-align: right;\">\n",
       "      <th></th>\n",
       "      <th>model</th>\n",
       "      <th>accuracy</th>\n",
       "      <th>precision</th>\n",
       "      <th>recall</th>\n",
       "      <th>f1score</th>\n",
       "      <th>rocauc</th>\n",
       "    </tr>\n",
       "  </thead>\n",
       "  <tbody>\n",
       "    <tr>\n",
       "      <th>0</th>\n",
       "      <td>GaussianNB</td>\n",
       "      <td>0.643750</td>\n",
       "      <td>0.424542</td>\n",
       "      <td>0.389685</td>\n",
       "      <td>0.403315</td>\n",
       "      <td>0.631554</td>\n",
       "    </tr>\n",
       "    <tr>\n",
       "      <th>1</th>\n",
       "      <td>LogisticRegression</td>\n",
       "      <td>0.700000</td>\n",
       "      <td>0.582308</td>\n",
       "      <td>0.223502</td>\n",
       "      <td>0.307467</td>\n",
       "      <td>0.642819</td>\n",
       "    </tr>\n",
       "    <tr>\n",
       "      <th>2</th>\n",
       "      <td>KNN</td>\n",
       "      <td>0.593750</td>\n",
       "      <td>0.295495</td>\n",
       "      <td>0.192397</td>\n",
       "      <td>0.230767</td>\n",
       "      <td>0.569200</td>\n",
       "    </tr>\n",
       "    <tr>\n",
       "      <th>3</th>\n",
       "      <td>DecisionTree</td>\n",
       "      <td>0.590625</td>\n",
       "      <td>0.376162</td>\n",
       "      <td>0.324444</td>\n",
       "      <td>0.325671</td>\n",
       "      <td>0.543785</td>\n",
       "    </tr>\n",
       "    <tr>\n",
       "      <th>4</th>\n",
       "      <td>RandomForest</td>\n",
       "      <td>0.621875</td>\n",
       "      <td>0.352381</td>\n",
       "      <td>0.214050</td>\n",
       "      <td>0.285248</td>\n",
       "      <td>0.571242</td>\n",
       "    </tr>\n",
       "    <tr>\n",
       "      <th>5</th>\n",
       "      <td>SVC</td>\n",
       "      <td>0.675000</td>\n",
       "      <td>0.352381</td>\n",
       "      <td>0.080496</td>\n",
       "      <td>0.123030</td>\n",
       "      <td>0.601866</td>\n",
       "    </tr>\n",
       "  </tbody>\n",
       "</table>\n",
       "</div>"
      ],
      "text/plain": [
       "                model  accuracy  precision    recall   f1score    rocauc\n",
       "0          GaussianNB  0.643750   0.424542  0.389685  0.403315  0.631554\n",
       "1  LogisticRegression  0.700000   0.582308  0.223502  0.307467  0.642819\n",
       "2                 KNN  0.593750   0.295495  0.192397  0.230767  0.569200\n",
       "3        DecisionTree  0.590625   0.376162  0.324444  0.325671  0.543785\n",
       "4        RandomForest  0.621875   0.352381  0.214050  0.285248  0.571242\n",
       "5                 SVC  0.675000   0.352381  0.080496  0.123030  0.601866"
      ]
     },
     "execution_count": 33,
     "metadata": {},
     "output_type": "execute_result"
    }
   ],
   "source": [
    "from sklearn import svm\n",
    "\n",
    "gnb = GaussianNB()\n",
    "logit = LogisticRegression()\n",
    "knn = KNeighborsClassifier()\n",
    "decisiontree = DecisionTreeClassifier()\n",
    "randomforest = RandomForestClassifier()\n",
    "svm = svm.SVC()\n",
    "\n",
    "X = data_with_dummy.iloc[:, 1:]\n",
    "y = data_with_dummy.iloc[:, 0]\n",
    "\n",
    "## Scale the data \n",
    "std = StandardScaler()\n",
    "std.fit(X.values)\n",
    "\n",
    "## Scale the Predictors \n",
    "X_scaled = std.transform(X.values)\n",
    "\n",
    "# to concat all models\n",
    "df_models = pd.concat([cross_val(gnb, X_scaled, y, 5, 'GaussianNB'),\n",
    "                       cross_val(logit, X_scaled, y, 5, 'LogisticRegression'),\n",
    "                       cross_val(knn, X_scaled, y, 5, 'KNN'),\n",
    "                       cross_val(decisiontree, X_scaled, y, 5, 'DecisionTree'),\n",
    "                       cross_val(randomforest, X_scaled, y, 5, 'RandomForest'),\n",
    "                       cross_val(svm, X_scaled, y, 5, 'SVC')\n",
    "                       ], axis=0).reset_index()\n",
    "\n",
    "df_models_scale = df_models.drop('index', axis=1)\n",
    "df_models_scale"
   ]
  },
  {
   "cell_type": "code",
   "execution_count": 34,
   "metadata": {},
   "outputs": [],
   "source": [
    "# Model Selection\n",
    "# From the cross-validation, GaussianNB has the highest F1 score. \n",
    "# Therefore, will further evaluate this model."
   ]
  },
  {
   "cell_type": "markdown",
   "metadata": {},
   "source": [
    "### Model Evaluation (after cross validation)"
   ]
  },
  {
   "cell_type": "markdown",
   "metadata": {},
   "source": [
    "#### GaussianNB (with scaled data)"
   ]
  },
  {
   "cell_type": "code",
   "execution_count": 35,
   "metadata": {},
   "outputs": [],
   "source": [
    "X = data_with_dummy.iloc[:, 1:]\n",
    "y = data_with_dummy.iloc[:, 0]"
   ]
  },
  {
   "cell_type": "code",
   "execution_count": 36,
   "metadata": {},
   "outputs": [],
   "source": [
    "X_train, X_test, y_train, y_test = train_test_split(X, y, test_size=.2, random_state=10)"
   ]
  },
  {
   "cell_type": "code",
   "execution_count": 37,
   "metadata": {},
   "outputs": [],
   "source": [
    "## Scale the data \n",
    "std = StandardScaler()\n",
    "std.fit(X_train.values)\n",
    "\n",
    "## Scale the Predictors on both the train and test set\n",
    "X_train_scaled = std.transform(X_train.values)\n",
    "X_test_scaled = std.transform(X_test.values)"
   ]
  },
  {
   "cell_type": "code",
   "execution_count": 38,
   "metadata": {},
   "outputs": [
    {
     "data": {
      "text/plain": [
       "GaussianNB()"
      ]
     },
     "execution_count": 38,
     "metadata": {},
     "output_type": "execute_result"
    }
   ],
   "source": [
    "gnb = GaussianNB()\n",
    "gnb.fit(X_train_scaled, y_train)"
   ]
  },
  {
   "cell_type": "code",
   "execution_count": 39,
   "metadata": {},
   "outputs": [
    {
     "name": "stdout",
     "output_type": "stream",
     "text": [
      "Accuracy Score for GaussianNB: 0.6125\n",
      "Precision Score for GaussianNB: 0.4\n",
      "Recall Score for GaussianNB: 0.38461538461538464\n",
      "\n",
      "Classification report for GaussianNB:\n",
      "               precision    recall  f1-score   support\n",
      "\n",
      "           0       0.71      0.72      0.72        54\n",
      "           1       0.40      0.38      0.39        26\n",
      "\n",
      "    accuracy                           0.61        80\n",
      "   macro avg       0.55      0.55      0.55        80\n",
      "weighted avg       0.61      0.61      0.61        80\n",
      "\n",
      "Confusion Matrix for GaussianNB:\n",
      " [[39 15]\n",
      " [16 10]]\n"
     ]
    }
   ],
   "source": [
    "y_predict = gnb.predict(X_test_scaled)\n",
    "\n",
    "print('Accuracy Score for GaussianNB: {}'.format(accuracy_score(y_test, y_predict)))\n",
    "print('Precision Score for GaussianNB: {}'.format(precision_score(y_test, y_predict)))\n",
    "print('Recall Score for GaussianNB: {}\\n'.format(recall_score(y_test, y_predict)))\n",
    "\n",
    "print('Classification report for GaussianNB:\\n {}'.format(classification_report(y_test, y_predict)))\n",
    "print('Confusion Matrix for GaussianNB:\\n {}'.format(confusion_matrix(y_test, y_predict)))"
   ]
  },
  {
   "cell_type": "markdown",
   "metadata": {},
   "source": [
    "### Validation using GridSearchCV"
   ]
  },
  {
   "cell_type": "markdown",
   "metadata": {},
   "source": [
    "#### SVM"
   ]
  },
  {
   "cell_type": "code",
   "execution_count": 40,
   "metadata": {},
   "outputs": [
    {
     "data": {
      "text/plain": [
       "GridSearchCV(estimator=SVC(),\n",
       "             param_grid={'C': [1, 10], 'kernel': ('linear', 'rbf')}, refit='f1',\n",
       "             return_train_score=True,\n",
       "             scoring=['accuracy', 'f1', 'precision', 'recall', 'roc_auc'])"
      ]
     },
     "execution_count": 40,
     "metadata": {},
     "output_type": "execute_result"
    }
   ],
   "source": [
    "from sklearn import svm\n",
    "from sklearn.model_selection import GridSearchCV\n",
    "\n",
    "X = data_with_dummy.iloc[:, 1:]\n",
    "y = data_with_dummy.iloc[:, 0]\n",
    "\n",
    "X_train, X_test, y_train, y_test = train_test_split(X, y, test_size=.2, random_state=10)\n",
    "\n",
    "## Scale the data \n",
    "std = StandardScaler()\n",
    "std.fit(X_train.values)\n",
    "\n",
    "## Scale the Predictors on both the train and test set\n",
    "X_train_scaled = std.transform(X_train.values)\n",
    "X_test_scaled = std.transform(X_test.values)\n",
    "\n",
    "parameters = {'kernel':('linear', 'rbf'), 'C':[1, 10]}\n",
    "scoring= ['accuracy', 'f1', 'precision','recall','roc_auc']\n",
    "svc = svm.SVC()\n",
    "clf = GridSearchCV(svc, parameters, scoring=scoring, refit='f1', return_train_score=True)\n",
    "clf.fit(X_train_scaled, y_train)"
   ]
  },
  {
   "cell_type": "code",
   "execution_count": 41,
   "metadata": {},
   "outputs": [
    {
     "name": "stdout",
     "output_type": "stream",
     "text": [
      "Best estimator: SVC(C=10)\n",
      "Best score: 0.3363594363594364\n",
      "Best parameter: {'C': 10, 'kernel': 'rbf'}\n",
      "Best index: 3\n"
     ]
    }
   ],
   "source": [
    "#print(\"Best parameters from gridsearch: {}\".format(gridsearch.best_params_))\n",
    "#print(\"CV score=%0.3f\" % gridsearch.best_score_)\n",
    "print(\"Best estimator: {}\".format(clf.best_estimator_))\n",
    "print(\"Best score: {}\".format(clf.best_score_))\n",
    "print(\"Best parameter: {}\".format(clf.best_params_))\n",
    "print(\"Best index: {}\".format(clf.best_index_))      "
   ]
  },
  {
   "cell_type": "code",
   "execution_count": 42,
   "metadata": {},
   "outputs": [],
   "source": [
    "def gs_svm(X, y, score):\n",
    "    if score == score:\n",
    "        X_train, X_test, y_train, y_test = train_test_split(X, y, test_size=.2, random_state=10)\n",
    "    \n",
    "        parameters = {'kernel':('linear', 'rbf'), 'C':[0.01, 0.1, 1, 10]}\n",
    "        scoring= ['accuracy', 'f1', 'precision','recall','roc_auc']\n",
    "        svc = svm.SVC()\n",
    "        clf = GridSearchCV(svc, parameters, scoring=scoring, refit=score, return_train_score=True)\n",
    "        clf.fit(X_train, y_train)\n",
    "    \n",
    "        best_estimator = np.array(clf.best_estimator_)\n",
    "        best_score = np.array(clf.best_score_)\n",
    "        best_parameter = np.array(clf.best_params_)\n",
    "    \n",
    "        gs_svm_metric = pd.DataFrame({'Best estimator': [best_estimator],\n",
    "                                      'Best metric': [score],\n",
    "                                      'Best score': [best_score],\n",
    "                                      'Best parameter': [best_parameter]})\n",
    "    return gs_svm_metric"
   ]
  },
  {
   "cell_type": "code",
   "execution_count": 43,
   "metadata": {},
   "outputs": [
    {
     "data": {
      "text/html": [
       "<div>\n",
       "<style scoped>\n",
       "    .dataframe tbody tr th:only-of-type {\n",
       "        vertical-align: middle;\n",
       "    }\n",
       "\n",
       "    .dataframe tbody tr th {\n",
       "        vertical-align: top;\n",
       "    }\n",
       "\n",
       "    .dataframe thead th {\n",
       "        text-align: right;\n",
       "    }\n",
       "</style>\n",
       "<table border=\"1\" class=\"dataframe\">\n",
       "  <thead>\n",
       "    <tr style=\"text-align: right;\">\n",
       "      <th></th>\n",
       "      <th>Best estimator</th>\n",
       "      <th>Best metric</th>\n",
       "      <th>Best score</th>\n",
       "      <th>Best parameter</th>\n",
       "    </tr>\n",
       "  </thead>\n",
       "  <tbody>\n",
       "    <tr>\n",
       "      <th>0</th>\n",
       "      <td>SVC(C=0.01, kernel='linear')</td>\n",
       "      <td>accuracy</td>\n",
       "      <td>0.684375</td>\n",
       "      <td>{'C': 0.01, 'kernel': 'linear'}</td>\n",
       "    </tr>\n",
       "    <tr>\n",
       "      <th>1</th>\n",
       "      <td>SVC(C=10)</td>\n",
       "      <td>f1</td>\n",
       "      <td>0.3445467392526216</td>\n",
       "      <td>{'C': 10, 'kernel': 'rbf'}</td>\n",
       "    </tr>\n",
       "    <tr>\n",
       "      <th>2</th>\n",
       "      <td>SVC(C=1, kernel='linear')</td>\n",
       "      <td>precision</td>\n",
       "      <td>0.40519480519480516</td>\n",
       "      <td>{'C': 1, 'kernel': 'linear'}</td>\n",
       "    </tr>\n",
       "    <tr>\n",
       "      <th>3</th>\n",
       "      <td>SVC(C=10)</td>\n",
       "      <td>recall</td>\n",
       "      <td>0.30761904761904757</td>\n",
       "      <td>{'C': 10, 'kernel': 'rbf'}</td>\n",
       "    </tr>\n",
       "    <tr>\n",
       "      <th>4</th>\n",
       "      <td>SVC(C=1, kernel='linear')</td>\n",
       "      <td>roc_auc</td>\n",
       "      <td>0.6003503473270916</td>\n",
       "      <td>{'C': 1, 'kernel': 'linear'}</td>\n",
       "    </tr>\n",
       "  </tbody>\n",
       "</table>\n",
       "</div>"
      ],
      "text/plain": [
       "                 Best estimator Best metric           Best score  \\\n",
       "0  SVC(C=0.01, kernel='linear')    accuracy             0.684375   \n",
       "1                     SVC(C=10)          f1   0.3445467392526216   \n",
       "2     SVC(C=1, kernel='linear')   precision  0.40519480519480516   \n",
       "3                     SVC(C=10)      recall  0.30761904761904757   \n",
       "4     SVC(C=1, kernel='linear')     roc_auc   0.6003503473270916   \n",
       "\n",
       "                    Best parameter  \n",
       "0  {'C': 0.01, 'kernel': 'linear'}  \n",
       "1       {'C': 10, 'kernel': 'rbf'}  \n",
       "2     {'C': 1, 'kernel': 'linear'}  \n",
       "3       {'C': 10, 'kernel': 'rbf'}  \n",
       "4     {'C': 1, 'kernel': 'linear'}  "
      ]
     },
     "execution_count": 43,
     "metadata": {},
     "output_type": "execute_result"
    }
   ],
   "source": [
    "X = data_with_dummy.iloc[:, 1:]\n",
    "y = data_with_dummy.iloc[:, 0]\n",
    "\n",
    "# Scale the data\n",
    "std = StandardScaler()\n",
    "std.fit(X.values)\n",
    "\n",
    "# Scale the predictor\n",
    "X = std.transform(X.values)\n",
    "\n",
    "# to concat all metrics\n",
    "df_metrics = pd.concat([gs_svm(X, y, 'accuracy'),\n",
    "                        gs_svm(X, y, 'f1'),\n",
    "                        gs_svm(X, y, 'precision'),\n",
    "                        gs_svm(X, y, 'recall'),\n",
    "                        gs_svm(X, y, 'roc_auc')\n",
    "                       ], axis=0).reset_index()\n",
    "\n",
    "df_gs_svm_metric = df_metrics.drop('index', axis=1)\n",
    "df_gs_svm_metric"
   ]
  },
  {
   "cell_type": "markdown",
   "metadata": {},
   "source": [
    "#### Logistic Regression"
   ]
  },
  {
   "cell_type": "code",
   "execution_count": 44,
   "metadata": {},
   "outputs": [],
   "source": [
    "def gs_log(X, y, score):\n",
    "    if score == score:\n",
    "        X_train, X_test, y_train, y_test = train_test_split(X, y, test_size=.2, random_state=10)\n",
    "    \n",
    "        parameters = {'penalty':('l1', 'l2'), 'C':[0.01, 0.1, 1, 10, 100, 1000]}\n",
    "        scoring= ['accuracy', 'f1', 'precision','recall','roc_auc']\n",
    "        log_reg = LogisticRegression()\n",
    "        clf = GridSearchCV(log_reg, parameters, scoring=scoring, refit=score, return_train_score=True)\n",
    "        clf.fit(X_train, y_train)\n",
    "    \n",
    "        best_estimator = np.array(clf.best_estimator_)\n",
    "        best_score = np.array(clf.best_score_)\n",
    "        best_parameter = np.array(clf.best_params_)\n",
    "    \n",
    "        gs_log_reg_metric = pd.DataFrame({'Best estimator': [best_estimator],\n",
    "                                          'Best metric': [score],\n",
    "                                          'Best score': [best_score],\n",
    "                                          'Best parameter': [best_parameter]})\n",
    "    return gs_log_reg_metric"
   ]
  },
  {
   "cell_type": "code",
   "execution_count": 45,
   "metadata": {},
   "outputs": [
    {
     "data": {
      "text/html": [
       "<div>\n",
       "<style scoped>\n",
       "    .dataframe tbody tr th:only-of-type {\n",
       "        vertical-align: middle;\n",
       "    }\n",
       "\n",
       "    .dataframe tbody tr th {\n",
       "        vertical-align: top;\n",
       "    }\n",
       "\n",
       "    .dataframe thead th {\n",
       "        text-align: right;\n",
       "    }\n",
       "</style>\n",
       "<table border=\"1\" class=\"dataframe\">\n",
       "  <thead>\n",
       "    <tr style=\"text-align: right;\">\n",
       "      <th></th>\n",
       "      <th>Best estimator</th>\n",
       "      <th>Best metric</th>\n",
       "      <th>Best score</th>\n",
       "      <th>Best parameter</th>\n",
       "    </tr>\n",
       "  </thead>\n",
       "  <tbody>\n",
       "    <tr>\n",
       "      <th>0</th>\n",
       "      <td>LogisticRegression(C=0.1)</td>\n",
       "      <td>accuracy</td>\n",
       "      <td>0.7</td>\n",
       "      <td>{'C': 0.1, 'penalty': 'l2'}</td>\n",
       "    </tr>\n",
       "    <tr>\n",
       "      <th>1</th>\n",
       "      <td>LogisticRegression(C=100)</td>\n",
       "      <td>f1</td>\n",
       "      <td>0.2896613756613757</td>\n",
       "      <td>{'C': 100, 'penalty': 'l2'}</td>\n",
       "    </tr>\n",
       "    <tr>\n",
       "      <th>2</th>\n",
       "      <td>LogisticRegression(C=0.1)</td>\n",
       "      <td>precision</td>\n",
       "      <td>0.7166666666666666</td>\n",
       "      <td>{'C': 0.1, 'penalty': 'l2'}</td>\n",
       "    </tr>\n",
       "    <tr>\n",
       "      <th>3</th>\n",
       "      <td>LogisticRegression(C=100)</td>\n",
       "      <td>recall</td>\n",
       "      <td>0.2061904761904762</td>\n",
       "      <td>{'C': 100, 'penalty': 'l2'}</td>\n",
       "    </tr>\n",
       "    <tr>\n",
       "      <th>4</th>\n",
       "      <td>LogisticRegression(C=100)</td>\n",
       "      <td>roc_auc</td>\n",
       "      <td>0.6549481526225712</td>\n",
       "      <td>{'C': 100, 'penalty': 'l2'}</td>\n",
       "    </tr>\n",
       "  </tbody>\n",
       "</table>\n",
       "</div>"
      ],
      "text/plain": [
       "              Best estimator Best metric          Best score  \\\n",
       "0  LogisticRegression(C=0.1)    accuracy                 0.7   \n",
       "1  LogisticRegression(C=100)          f1  0.2896613756613757   \n",
       "2  LogisticRegression(C=0.1)   precision  0.7166666666666666   \n",
       "3  LogisticRegression(C=100)      recall  0.2061904761904762   \n",
       "4  LogisticRegression(C=100)     roc_auc  0.6549481526225712   \n",
       "\n",
       "                Best parameter  \n",
       "0  {'C': 0.1, 'penalty': 'l2'}  \n",
       "1  {'C': 100, 'penalty': 'l2'}  \n",
       "2  {'C': 0.1, 'penalty': 'l2'}  \n",
       "3  {'C': 100, 'penalty': 'l2'}  \n",
       "4  {'C': 100, 'penalty': 'l2'}  "
      ]
     },
     "execution_count": 45,
     "metadata": {},
     "output_type": "execute_result"
    }
   ],
   "source": [
    "X = data_with_dummy.iloc[:, 1:]\n",
    "y = data_with_dummy.iloc[:, 0]\n",
    "\n",
    "# Scale the data\n",
    "std = StandardScaler()\n",
    "std.fit(X.values)\n",
    "\n",
    "# Scale the predictor\n",
    "X = std.transform(X.values)\n",
    "\n",
    "# to concat all metrics\n",
    "df_metrics = pd.concat([gs_log(X, y, 'accuracy'),\n",
    "                        gs_log(X, y, 'f1'),\n",
    "                        gs_log(X, y, 'precision'),\n",
    "                        gs_log(X, y, 'recall'),\n",
    "                        gs_log(X, y, 'roc_auc')\n",
    "                       ], axis=0).reset_index()\n",
    "\n",
    "df_gs_log_metric = df_metrics.drop('index', axis=1)\n",
    "df_gs_log_metric"
   ]
  },
  {
   "cell_type": "markdown",
   "metadata": {},
   "source": [
    "#### GaussianNB"
   ]
  },
  {
   "cell_type": "code",
   "execution_count": 46,
   "metadata": {},
   "outputs": [],
   "source": [
    "def gs_gnb(X, y, score):\n",
    "    if score == score:\n",
    "        X_train, X_test, y_train, y_test = train_test_split(X, y, test_size=.2, random_state=10)\n",
    "    \n",
    "        parameters = {}\n",
    "        scoring= ['accuracy', 'f1', 'precision','recall','roc_auc']\n",
    "        gnb = GaussianNB()\n",
    "        clf = GridSearchCV(gnb, parameters, scoring=scoring, refit=score, return_train_score=True)\n",
    "        clf.fit(X_train, y_train)\n",
    "    \n",
    "        best_estimator = np.array(clf.best_estimator_)\n",
    "        best_score = np.array(clf.best_score_)\n",
    "        best_parameter = np.array(clf.best_params_)\n",
    "    \n",
    "        gs_gnb_metric = pd.DataFrame({'Best estimator': [best_estimator],\n",
    "                                          'Best metric': [score],\n",
    "                                          'Best score': [best_score],\n",
    "                                          'Best parameter': [best_parameter]})\n",
    "    return gs_gnb_metric"
   ]
  },
  {
   "cell_type": "code",
   "execution_count": 47,
   "metadata": {},
   "outputs": [
    {
     "data": {
      "text/html": [
       "<div>\n",
       "<style scoped>\n",
       "    .dataframe tbody tr th:only-of-type {\n",
       "        vertical-align: middle;\n",
       "    }\n",
       "\n",
       "    .dataframe tbody tr th {\n",
       "        vertical-align: top;\n",
       "    }\n",
       "\n",
       "    .dataframe thead th {\n",
       "        text-align: right;\n",
       "    }\n",
       "</style>\n",
       "<table border=\"1\" class=\"dataframe\">\n",
       "  <thead>\n",
       "    <tr style=\"text-align: right;\">\n",
       "      <th></th>\n",
       "      <th>Best estimator</th>\n",
       "      <th>Best metric</th>\n",
       "      <th>Best score</th>\n",
       "      <th>Best parameter</th>\n",
       "    </tr>\n",
       "  </thead>\n",
       "  <tbody>\n",
       "    <tr>\n",
       "      <th>0</th>\n",
       "      <td>GaussianNB()</td>\n",
       "      <td>accuracy</td>\n",
       "      <td>0.640625</td>\n",
       "      <td>{}</td>\n",
       "    </tr>\n",
       "    <tr>\n",
       "      <th>1</th>\n",
       "      <td>GaussianNB()</td>\n",
       "      <td>f1</td>\n",
       "      <td>0.390956937799043</td>\n",
       "      <td>{}</td>\n",
       "    </tr>\n",
       "    <tr>\n",
       "      <th>2</th>\n",
       "      <td>GaussianNB()</td>\n",
       "      <td>precision</td>\n",
       "      <td>0.41535302861389817</td>\n",
       "      <td>{}</td>\n",
       "    </tr>\n",
       "    <tr>\n",
       "      <th>3</th>\n",
       "      <td>GaussianNB()</td>\n",
       "      <td>recall</td>\n",
       "      <td>0.37476190476190474</td>\n",
       "      <td>{}</td>\n",
       "    </tr>\n",
       "    <tr>\n",
       "      <th>4</th>\n",
       "      <td>GaussianNB()</td>\n",
       "      <td>roc_auc</td>\n",
       "      <td>0.6216490486257926</td>\n",
       "      <td>{}</td>\n",
       "    </tr>\n",
       "  </tbody>\n",
       "</table>\n",
       "</div>"
      ],
      "text/plain": [
       "  Best estimator Best metric           Best score Best parameter\n",
       "0   GaussianNB()    accuracy             0.640625             {}\n",
       "1   GaussianNB()          f1    0.390956937799043             {}\n",
       "2   GaussianNB()   precision  0.41535302861389817             {}\n",
       "3   GaussianNB()      recall  0.37476190476190474             {}\n",
       "4   GaussianNB()     roc_auc   0.6216490486257926             {}"
      ]
     },
     "execution_count": 47,
     "metadata": {},
     "output_type": "execute_result"
    }
   ],
   "source": [
    "X = data_with_dummy.iloc[:, 1:]\n",
    "y = data_with_dummy.iloc[:, 0]\n",
    "\n",
    "# Scale the data\n",
    "std = StandardScaler()\n",
    "std.fit(X.values)\n",
    "\n",
    "# Scale the predictor\n",
    "X = std.transform(X.values)\n",
    "\n",
    "# to concat all metrics\n",
    "df_metrics = pd.concat([gs_gnb(X, y, 'accuracy'),\n",
    "                        gs_gnb(X, y, 'f1'),\n",
    "                        gs_gnb(X, y, 'precision'),\n",
    "                        gs_gnb(X, y, 'recall'),\n",
    "                        gs_gnb(X, y, 'roc_auc')\n",
    "                       ], axis=0).reset_index()\n",
    "\n",
    "df_gs_gnb_metric = df_metrics.drop('index', axis=1)\n",
    "df_gs_gnb_metric"
   ]
  },
  {
   "cell_type": "markdown",
   "metadata": {},
   "source": [
    "#### KNN"
   ]
  },
  {
   "cell_type": "code",
   "execution_count": 48,
   "metadata": {},
   "outputs": [],
   "source": [
    "def gs_knn(X, y, score):\n",
    "    if score == score:\n",
    "        X_train, X_test, y_train, y_test = train_test_split(X, y, test_size=.2, random_state=10)\n",
    "    \n",
    "        parameters = {'n_neighbors':[3, 5, 7, 9, 11]}\n",
    "        scoring= ['accuracy', 'f1', 'precision','recall','roc_auc']\n",
    "        knn = KNeighborsClassifier()\n",
    "        clf = GridSearchCV(knn, parameters, scoring=scoring, refit=score, return_train_score=True)\n",
    "        clf.fit(X_train, y_train)\n",
    "    \n",
    "        best_estimator = np.array(clf.best_estimator_)\n",
    "        best_score = np.array(clf.best_score_)\n",
    "        best_parameter = np.array(clf.best_params_)\n",
    "    \n",
    "        gs_knn_metric = pd.DataFrame({'Best estimator': [best_estimator],\n",
    "                                          'Best metric': [score],\n",
    "                                          'Best score': [best_score],\n",
    "                                          'Best parameter': [best_parameter]})\n",
    "    return gs_knn_metric"
   ]
  },
  {
   "cell_type": "code",
   "execution_count": 49,
   "metadata": {},
   "outputs": [
    {
     "data": {
      "text/html": [
       "<div>\n",
       "<style scoped>\n",
       "    .dataframe tbody tr th:only-of-type {\n",
       "        vertical-align: middle;\n",
       "    }\n",
       "\n",
       "    .dataframe tbody tr th {\n",
       "        vertical-align: top;\n",
       "    }\n",
       "\n",
       "    .dataframe thead th {\n",
       "        text-align: right;\n",
       "    }\n",
       "</style>\n",
       "<table border=\"1\" class=\"dataframe\">\n",
       "  <thead>\n",
       "    <tr style=\"text-align: right;\">\n",
       "      <th></th>\n",
       "      <th>Best estimator</th>\n",
       "      <th>Best metric</th>\n",
       "      <th>Best score</th>\n",
       "      <th>Best parameter</th>\n",
       "    </tr>\n",
       "  </thead>\n",
       "  <tbody>\n",
       "    <tr>\n",
       "      <th>0</th>\n",
       "      <td>KNeighborsClassifier(n_neighbors=9)</td>\n",
       "      <td>accuracy</td>\n",
       "      <td>0.653125</td>\n",
       "      <td>{'n_neighbors': 9}</td>\n",
       "    </tr>\n",
       "    <tr>\n",
       "      <th>1</th>\n",
       "      <td>KNeighborsClassifier(n_neighbors=3)</td>\n",
       "      <td>f1</td>\n",
       "      <td>0.3396717171717172</td>\n",
       "      <td>{'n_neighbors': 3}</td>\n",
       "    </tr>\n",
       "    <tr>\n",
       "      <th>2</th>\n",
       "      <td>KNeighborsClassifier(n_neighbors=3)</td>\n",
       "      <td>precision</td>\n",
       "      <td>0.38993528401423133</td>\n",
       "      <td>{'n_neighbors': 3}</td>\n",
       "    </tr>\n",
       "    <tr>\n",
       "      <th>3</th>\n",
       "      <td>KNeighborsClassifier(n_neighbors=3)</td>\n",
       "      <td>recall</td>\n",
       "      <td>0.3071428571428571</td>\n",
       "      <td>{'n_neighbors': 3}</td>\n",
       "    </tr>\n",
       "    <tr>\n",
       "      <th>4</th>\n",
       "      <td>KNeighborsClassifier(n_neighbors=11)</td>\n",
       "      <td>roc_auc</td>\n",
       "      <td>0.6017951525218967</td>\n",
       "      <td>{'n_neighbors': 11}</td>\n",
       "    </tr>\n",
       "  </tbody>\n",
       "</table>\n",
       "</div>"
      ],
      "text/plain": [
       "                         Best estimator Best metric           Best score  \\\n",
       "0   KNeighborsClassifier(n_neighbors=9)    accuracy             0.653125   \n",
       "1   KNeighborsClassifier(n_neighbors=3)          f1   0.3396717171717172   \n",
       "2   KNeighborsClassifier(n_neighbors=3)   precision  0.38993528401423133   \n",
       "3   KNeighborsClassifier(n_neighbors=3)      recall   0.3071428571428571   \n",
       "4  KNeighborsClassifier(n_neighbors=11)     roc_auc   0.6017951525218967   \n",
       "\n",
       "        Best parameter  \n",
       "0   {'n_neighbors': 9}  \n",
       "1   {'n_neighbors': 3}  \n",
       "2   {'n_neighbors': 3}  \n",
       "3   {'n_neighbors': 3}  \n",
       "4  {'n_neighbors': 11}  "
      ]
     },
     "execution_count": 49,
     "metadata": {},
     "output_type": "execute_result"
    }
   ],
   "source": [
    "X = data_with_dummy.iloc[:, 1:]\n",
    "y = data_with_dummy.iloc[:, 0]\n",
    "\n",
    "# Scale the data\n",
    "std = StandardScaler()\n",
    "std.fit(X.values)\n",
    "\n",
    "# Scale the predictor\n",
    "X = std.transform(X.values)\n",
    "\n",
    "# to concat all metrics\n",
    "df_metrics = pd.concat([gs_knn(X, y, 'accuracy'),\n",
    "                        gs_knn(X, y, 'f1'),\n",
    "                        gs_knn(X, y, 'precision'),\n",
    "                        gs_knn(X, y, 'recall'),\n",
    "                        gs_knn(X, y, 'roc_auc')\n",
    "                       ], axis=0).reset_index()\n",
    "\n",
    "df_knn_metric = df_metrics.drop('index', axis=1)\n",
    "df_knn_metric"
   ]
  },
  {
   "cell_type": "markdown",
   "metadata": {},
   "source": [
    "#### DecisionTree"
   ]
  },
  {
   "cell_type": "code",
   "execution_count": 50,
   "metadata": {},
   "outputs": [],
   "source": [
    "def gs_dec_tree(X, y, score):\n",
    "    if score == score:\n",
    "        X_train, X_test, y_train, y_test = train_test_split(X, y, test_size=.2, random_state=10)\n",
    "    \n",
    "        parameters = {'max_depth':[3, 4, 5, 6]}\n",
    "        scoring= ['accuracy', 'f1', 'precision','recall','roc_auc']\n",
    "        dec_tree = DecisionTreeClassifier()\n",
    "        clf = GridSearchCV(dec_tree, parameters, scoring=scoring, refit=score, return_train_score=True)\n",
    "        clf.fit(X_train, y_train)\n",
    "    \n",
    "        best_estimator = np.array(clf.best_estimator_)\n",
    "        best_score = np.array(clf.best_score_)\n",
    "        best_parameter = np.array(clf.best_params_)\n",
    "    \n",
    "        gs_dec_tree_metric = pd.DataFrame({'Best estimator': [best_estimator],\n",
    "                                           'Best metric': [score],\n",
    "                                           'Best score': [best_score],\n",
    "                                           'Best parameter': [best_parameter]})\n",
    "    return gs_dec_tree_metric"
   ]
  },
  {
   "cell_type": "code",
   "execution_count": 51,
   "metadata": {},
   "outputs": [
    {
     "data": {
      "text/html": [
       "<div>\n",
       "<style scoped>\n",
       "    .dataframe tbody tr th:only-of-type {\n",
       "        vertical-align: middle;\n",
       "    }\n",
       "\n",
       "    .dataframe tbody tr th {\n",
       "        vertical-align: top;\n",
       "    }\n",
       "\n",
       "    .dataframe thead th {\n",
       "        text-align: right;\n",
       "    }\n",
       "</style>\n",
       "<table border=\"1\" class=\"dataframe\">\n",
       "  <thead>\n",
       "    <tr style=\"text-align: right;\">\n",
       "      <th></th>\n",
       "      <th>Best estimator</th>\n",
       "      <th>Best metric</th>\n",
       "      <th>Best score</th>\n",
       "      <th>Best parameter</th>\n",
       "    </tr>\n",
       "  </thead>\n",
       "  <tbody>\n",
       "    <tr>\n",
       "      <th>0</th>\n",
       "      <td>DecisionTreeClassifier(max_depth=4)</td>\n",
       "      <td>accuracy</td>\n",
       "      <td>0.66875</td>\n",
       "      <td>{'max_depth': 4}</td>\n",
       "    </tr>\n",
       "    <tr>\n",
       "      <th>1</th>\n",
       "      <td>DecisionTreeClassifier(max_depth=6)</td>\n",
       "      <td>f1</td>\n",
       "      <td>0.30201423097974817</td>\n",
       "      <td>{'max_depth': 6}</td>\n",
       "    </tr>\n",
       "    <tr>\n",
       "      <th>2</th>\n",
       "      <td>DecisionTreeClassifier(max_depth=4)</td>\n",
       "      <td>precision</td>\n",
       "      <td>0.42777777777777776</td>\n",
       "      <td>{'max_depth': 4}</td>\n",
       "    </tr>\n",
       "    <tr>\n",
       "      <th>3</th>\n",
       "      <td>DecisionTreeClassifier(max_depth=6)</td>\n",
       "      <td>recall</td>\n",
       "      <td>0.2852380952380952</td>\n",
       "      <td>{'max_depth': 6}</td>\n",
       "    </tr>\n",
       "    <tr>\n",
       "      <th>4</th>\n",
       "      <td>DecisionTreeClassifier(max_depth=6)</td>\n",
       "      <td>roc_auc</td>\n",
       "      <td>0.5986994110540622</td>\n",
       "      <td>{'max_depth': 6}</td>\n",
       "    </tr>\n",
       "  </tbody>\n",
       "</table>\n",
       "</div>"
      ],
      "text/plain": [
       "                        Best estimator Best metric           Best score  \\\n",
       "0  DecisionTreeClassifier(max_depth=4)    accuracy              0.66875   \n",
       "1  DecisionTreeClassifier(max_depth=6)          f1  0.30201423097974817   \n",
       "2  DecisionTreeClassifier(max_depth=4)   precision  0.42777777777777776   \n",
       "3  DecisionTreeClassifier(max_depth=6)      recall   0.2852380952380952   \n",
       "4  DecisionTreeClassifier(max_depth=6)     roc_auc   0.5986994110540622   \n",
       "\n",
       "     Best parameter  \n",
       "0  {'max_depth': 4}  \n",
       "1  {'max_depth': 6}  \n",
       "2  {'max_depth': 4}  \n",
       "3  {'max_depth': 6}  \n",
       "4  {'max_depth': 6}  "
      ]
     },
     "execution_count": 51,
     "metadata": {},
     "output_type": "execute_result"
    }
   ],
   "source": [
    "X = data_with_dummy.iloc[:, 1:]\n",
    "y = data_with_dummy.iloc[:, 0]\n",
    "\n",
    "# Scale the data\n",
    "std = StandardScaler()\n",
    "std.fit(X.values)\n",
    "\n",
    "# Scale the predictor\n",
    "X = std.transform(X.values)\n",
    "\n",
    "# to concat all metrics\n",
    "df_metrics = pd.concat([gs_dec_tree(X, y, 'accuracy'),\n",
    "                        gs_dec_tree(X, y, 'f1'),\n",
    "                        gs_dec_tree(X, y, 'precision'),\n",
    "                        gs_dec_tree(X, y, 'recall'),\n",
    "                        gs_dec_tree(X, y, 'roc_auc')\n",
    "                       ], axis=0).reset_index()\n",
    "\n",
    "df_dec_tree_metric = df_metrics.drop('index', axis=1)\n",
    "df_dec_tree_metric"
   ]
  },
  {
   "cell_type": "markdown",
   "metadata": {},
   "source": [
    "#### RandomForest"
   ]
  },
  {
   "cell_type": "code",
   "execution_count": 52,
   "metadata": {},
   "outputs": [],
   "source": [
    "def gs_ran_forest(X, y, score):\n",
    "    if score == score:\n",
    "        X_train, X_test, y_train, y_test = train_test_split(X, y, test_size=.2, random_state=10)\n",
    "    \n",
    "        parameters = {'n_estimators':[100, 200, 300, 400]}\n",
    "        scoring= ['accuracy', 'f1', 'precision','recall','roc_auc']\n",
    "        ran_forest = RandomForestClassifier()\n",
    "        clf = GridSearchCV(ran_forest, parameters, scoring=scoring, refit=score, return_train_score=True)\n",
    "        clf.fit(X_train, y_train)\n",
    "    \n",
    "        best_estimator = np.array(clf.best_estimator_)\n",
    "        best_score = np.array(clf.best_score_)\n",
    "        best_parameter = np.array(clf.best_params_)\n",
    "    \n",
    "        gs_ran_forest_metric = pd.DataFrame({'Best estimator': [best_estimator],\n",
    "                                           'Best metric': [score],\n",
    "                                           'Best score': [best_score],\n",
    "                                           'Best parameter': [best_parameter]})\n",
    "    return gs_ran_forest_metric"
   ]
  },
  {
   "cell_type": "code",
   "execution_count": 53,
   "metadata": {},
   "outputs": [
    {
     "data": {
      "text/html": [
       "<div>\n",
       "<style scoped>\n",
       "    .dataframe tbody tr th:only-of-type {\n",
       "        vertical-align: middle;\n",
       "    }\n",
       "\n",
       "    .dataframe tbody tr th {\n",
       "        vertical-align: top;\n",
       "    }\n",
       "\n",
       "    .dataframe thead th {\n",
       "        text-align: right;\n",
       "    }\n",
       "</style>\n",
       "<table border=\"1\" class=\"dataframe\">\n",
       "  <thead>\n",
       "    <tr style=\"text-align: right;\">\n",
       "      <th></th>\n",
       "      <th>Best estimator</th>\n",
       "      <th>Best metric</th>\n",
       "      <th>Best score</th>\n",
       "      <th>Best parameter</th>\n",
       "    </tr>\n",
       "  </thead>\n",
       "  <tbody>\n",
       "    <tr>\n",
       "      <th>0</th>\n",
       "      <td>[DecisionTreeClassifier(max_features='auto', r...</td>\n",
       "      <td>accuracy</td>\n",
       "      <td>0.6375</td>\n",
       "      <td>{'n_estimators': 300}</td>\n",
       "    </tr>\n",
       "    <tr>\n",
       "      <th>1</th>\n",
       "      <td>[DecisionTreeClassifier(max_features='auto', r...</td>\n",
       "      <td>f1</td>\n",
       "      <td>0.29950662083015017</td>\n",
       "      <td>{'n_estimators': 300}</td>\n",
       "    </tr>\n",
       "    <tr>\n",
       "      <th>2</th>\n",
       "      <td>[DecisionTreeClassifier(max_features='auto', r...</td>\n",
       "      <td>precision</td>\n",
       "      <td>0.4146520146520146</td>\n",
       "      <td>{'n_estimators': 300}</td>\n",
       "    </tr>\n",
       "    <tr>\n",
       "      <th>3</th>\n",
       "      <td>[DecisionTreeClassifier(max_features='auto', r...</td>\n",
       "      <td>recall</td>\n",
       "      <td>0.2671428571428572</td>\n",
       "      <td>{'n_estimators': 300}</td>\n",
       "    </tr>\n",
       "    <tr>\n",
       "      <th>4</th>\n",
       "      <td>[DecisionTreeClassifier(max_features='auto', r...</td>\n",
       "      <td>roc_auc</td>\n",
       "      <td>0.5907354273633344</td>\n",
       "      <td>{'n_estimators': 100}</td>\n",
       "    </tr>\n",
       "  </tbody>\n",
       "</table>\n",
       "</div>"
      ],
      "text/plain": [
       "                                      Best estimator Best metric  \\\n",
       "0  [DecisionTreeClassifier(max_features='auto', r...    accuracy   \n",
       "1  [DecisionTreeClassifier(max_features='auto', r...          f1   \n",
       "2  [DecisionTreeClassifier(max_features='auto', r...   precision   \n",
       "3  [DecisionTreeClassifier(max_features='auto', r...      recall   \n",
       "4  [DecisionTreeClassifier(max_features='auto', r...     roc_auc   \n",
       "\n",
       "            Best score         Best parameter  \n",
       "0               0.6375  {'n_estimators': 300}  \n",
       "1  0.29950662083015017  {'n_estimators': 300}  \n",
       "2   0.4146520146520146  {'n_estimators': 300}  \n",
       "3   0.2671428571428572  {'n_estimators': 300}  \n",
       "4   0.5907354273633344  {'n_estimators': 100}  "
      ]
     },
     "execution_count": 53,
     "metadata": {},
     "output_type": "execute_result"
    }
   ],
   "source": [
    "X = data_with_dummy.iloc[:, 1:]\n",
    "y = data_with_dummy.iloc[:, 0]\n",
    "\n",
    "# Scale the data\n",
    "std = StandardScaler()\n",
    "std.fit(X.values)\n",
    "\n",
    "# Scale the predictor\n",
    "X = std.transform(X.values)\n",
    "\n",
    "# to concat all metrics\n",
    "df_metrics = pd.concat([gs_ran_forest(X, y, 'accuracy'),\n",
    "                        gs_ran_forest(X, y, 'f1'),\n",
    "                        gs_ran_forest(X, y, 'precision'),\n",
    "                        gs_ran_forest(X, y, 'recall'),\n",
    "                        gs_ran_forest(X, y, 'roc_auc')\n",
    "                       ], axis=0).reset_index()\n",
    "\n",
    "df_ran_forest_metric = df_metrics.drop('index', axis=1)\n",
    "df_ran_forest_metric"
   ]
  },
  {
   "cell_type": "markdown",
   "metadata": {},
   "source": [
    "#### Training, Validating and Scoring All Models (Simple Validation OverSampling with scaling)"
   ]
  },
  {
   "cell_type": "code",
   "execution_count": 54,
   "metadata": {},
   "outputs": [],
   "source": [
    "def sv_oversampling(model, X, y, name):\n",
    "    global accuracy, precision, recall, f1score, rocauc, d, df_model\n",
    "    from imblearn.over_sampling import RandomOverSampler\n",
    "    \n",
    "    X_train_val, X_test, y_train_val, y_test = train_test_split(X, y, test_size=0.2, random_state=10)\n",
    "    X_train, X_val, y_train, y_val = train_test_split(X_train_val, y_train_val, test_size=0.25, random_state=10)\n",
    "    \n",
    "    if model == model:\n",
    "            \n",
    "        # Creating the OverSampled data\n",
    "        X_resampled, y_resampled = RandomOverSampler(random_state=42).fit_sample(X_train, y_train)\n",
    "        \n",
    "        # Initializing model\n",
    "        clf_model = model.fit(X_resampled, y_resampled) \n",
    "        y_pred = clf_model.predict(X_val)\n",
    "        \n",
    "        # Save scores of model\n",
    "        accuracy = np.array(accuracy_score(y_val, y_pred))\n",
    "        precision = np.array(precision_score(y_val, y_pred))\n",
    "        recall = np.array(recall_score(y_val, y_pred))\n",
    "        f1score = np.array(f1_score(y_val, y_pred))   \n",
    "        rocauc = np.array(roc_auc_score(y_val, y_pred))\n",
    "        \n",
    "    \n",
    "        d = {'model': [name],\n",
    "             'accuracy': [accuracy],\n",
    "             'precision': [precision],\n",
    "             'recall': [recall],\n",
    "             'f1score': [f1score],\n",
    "             'rocauc': [rocauc]}\n",
    "        \n",
    "    df_model = pd.DataFrame(d)\n",
    "    return df_model\n",
    "   "
   ]
  },
  {
   "cell_type": "code",
   "execution_count": 55,
   "metadata": {},
   "outputs": [
    {
     "data": {
      "text/html": [
       "<div>\n",
       "<style scoped>\n",
       "    .dataframe tbody tr th:only-of-type {\n",
       "        vertical-align: middle;\n",
       "    }\n",
       "\n",
       "    .dataframe tbody tr th {\n",
       "        vertical-align: top;\n",
       "    }\n",
       "\n",
       "    .dataframe thead th {\n",
       "        text-align: right;\n",
       "    }\n",
       "</style>\n",
       "<table border=\"1\" class=\"dataframe\">\n",
       "  <thead>\n",
       "    <tr style=\"text-align: right;\">\n",
       "      <th></th>\n",
       "      <th>model</th>\n",
       "      <th>accuracy</th>\n",
       "      <th>precision</th>\n",
       "      <th>recall</th>\n",
       "      <th>f1score</th>\n",
       "      <th>rocauc</th>\n",
       "    </tr>\n",
       "  </thead>\n",
       "  <tbody>\n",
       "    <tr>\n",
       "      <th>0</th>\n",
       "      <td>GaussianNB</td>\n",
       "      <td>0.4375</td>\n",
       "      <td>0.20512820512820512</td>\n",
       "      <td>0.36363636363636365</td>\n",
       "      <td>0.2622950819672131</td>\n",
       "      <td>0.41457680250783707</td>\n",
       "    </tr>\n",
       "    <tr>\n",
       "      <th>1</th>\n",
       "      <td>LogisticRegression</td>\n",
       "      <td>0.55</td>\n",
       "      <td>0.26666666666666666</td>\n",
       "      <td>0.36363636363636365</td>\n",
       "      <td>0.30769230769230765</td>\n",
       "      <td>0.49216300940438873</td>\n",
       "    </tr>\n",
       "    <tr>\n",
       "      <th>2</th>\n",
       "      <td>KNN</td>\n",
       "      <td>0.4875</td>\n",
       "      <td>0.22857142857142856</td>\n",
       "      <td>0.36363636363636365</td>\n",
       "      <td>0.2807017543859649</td>\n",
       "      <td>0.44905956112852674</td>\n",
       "    </tr>\n",
       "    <tr>\n",
       "      <th>3</th>\n",
       "      <td>DecisionTree</td>\n",
       "      <td>0.625</td>\n",
       "      <td>0.3</td>\n",
       "      <td>0.2727272727272727</td>\n",
       "      <td>0.28571428571428564</td>\n",
       "      <td>0.5156739811912225</td>\n",
       "    </tr>\n",
       "    <tr>\n",
       "      <th>4</th>\n",
       "      <td>RandomForest</td>\n",
       "      <td>0.575</td>\n",
       "      <td>0.22727272727272727</td>\n",
       "      <td>0.22727272727272727</td>\n",
       "      <td>0.22727272727272727</td>\n",
       "      <td>0.4670846394984326</td>\n",
       "    </tr>\n",
       "    <tr>\n",
       "      <th>5</th>\n",
       "      <td>LinearSVC</td>\n",
       "      <td>0.525</td>\n",
       "      <td>0.25</td>\n",
       "      <td>0.36363636363636365</td>\n",
       "      <td>0.2962962962962963</td>\n",
       "      <td>0.474921630094044</td>\n",
       "    </tr>\n",
       "  </tbody>\n",
       "</table>\n",
       "</div>"
      ],
      "text/plain": [
       "                model accuracy            precision               recall  \\\n",
       "0          GaussianNB   0.4375  0.20512820512820512  0.36363636363636365   \n",
       "1  LogisticRegression     0.55  0.26666666666666666  0.36363636363636365   \n",
       "2                 KNN   0.4875  0.22857142857142856  0.36363636363636365   \n",
       "3        DecisionTree    0.625                  0.3   0.2727272727272727   \n",
       "4        RandomForest    0.575  0.22727272727272727  0.22727272727272727   \n",
       "5           LinearSVC    0.525                 0.25  0.36363636363636365   \n",
       "\n",
       "               f1score               rocauc  \n",
       "0   0.2622950819672131  0.41457680250783707  \n",
       "1  0.30769230769230765  0.49216300940438873  \n",
       "2   0.2807017543859649  0.44905956112852674  \n",
       "3  0.28571428571428564   0.5156739811912225  \n",
       "4  0.22727272727272727   0.4670846394984326  \n",
       "5   0.2962962962962963    0.474921630094044  "
      ]
     },
     "execution_count": 55,
     "metadata": {},
     "output_type": "execute_result"
    }
   ],
   "source": [
    "gnb = GaussianNB()\n",
    "logit = LogisticRegression()\n",
    "knn = KNeighborsClassifier()\n",
    "decisiontree = DecisionTreeClassifier()\n",
    "randomforest = RandomForestClassifier()\n",
    "linearsvc = LinearSVC()\n",
    "\n",
    "X = data_with_dummy.iloc[:, 1:]\n",
    "y = data_with_dummy.iloc[:, 0]\n",
    "\n",
    "# Scale the data\n",
    "std = StandardScaler()\n",
    "std.fit(X.values)\n",
    "\n",
    "# Scale the predictor\n",
    "X = std.transform(X.values)\n",
    "\n",
    "# to concat all models\n",
    "df_models = pd.concat([sv_oversampling(gnb, X, y, 'GaussianNB'),\n",
    "                       sv_oversampling(logit, X, y, 'LogisticRegression'),\n",
    "                       sv_oversampling(knn, X, y, 'KNN'),\n",
    "                       sv_oversampling(decisiontree, X, y, 'DecisionTree'),\n",
    "                       sv_oversampling(randomforest, X, y, 'RandomForest'),\n",
    "                       sv_oversampling(linearsvc, X, y, 'LinearSVC')\n",
    "                       ], axis=0).reset_index()\n",
    "\n",
    "df_models_scale_oversample = df_models.drop('index', axis=1)\n",
    "df_models_scale_oversample"
   ]
  },
  {
   "cell_type": "markdown",
   "metadata": {},
   "source": [
    "### Simple validation Random Oversampling with scaling"
   ]
  },
  {
   "cell_type": "markdown",
   "metadata": {},
   "source": [
    "#### GaussianNB"
   ]
  },
  {
   "cell_type": "code",
   "execution_count": 56,
   "metadata": {},
   "outputs": [
    {
     "name": "stdout",
     "output_type": "stream",
     "text": [
      "Accuracy: 0.4375\n",
      "Precision: 0.20512820512820512\n",
      "Recall: 0.36363636363636365\n",
      "F1 score: 0.2622950819672131\n",
      "ROC AUC: 0.41457680250783707\n"
     ]
    }
   ],
   "source": [
    "from imblearn.over_sampling import RandomOverSampler\n",
    "\n",
    "X = data_with_dummy.iloc[:, 1:]\n",
    "y = data_with_dummy.iloc[:, 0]\n",
    "\n",
    "# Scale the data\n",
    "std = StandardScaler()\n",
    "std.fit(X.values)\n",
    "\n",
    "# Scale the predictor\n",
    "X = std.transform(X.values)\n",
    "\n",
    "X_train_val, X_test, y_train_val, y_test = train_test_split(X, y, test_size=0.2, random_state=10)\n",
    "X_train, X_val, y_train, y_val = train_test_split(X_train_val, y_train_val, test_size=0.25, random_state=10)\n",
    "\n",
    "# Creating the OverSampled data\n",
    "X_resampled, y_resampled = RandomOverSampler(random_state=42).fit_sample(X_train, y_train)\n",
    "\n",
    "# Initializing model\n",
    "clf_ros_gnb = GaussianNB().fit(X_resampled, y_resampled) \n",
    "y_pred = clf_ros_gnb.predict(X_val)\n",
    "\n",
    "# Save scores of model\n",
    "accuracy = accuracy_score(y_val, y_pred)\n",
    "precision = precision_score(y_val, y_pred)\n",
    "recall = recall_score(y_val, y_pred)\n",
    "f1score = f1_score(y_val, y_pred)   \n",
    "rocauc = roc_auc_score(y_val, y_pred)\n",
    "\n",
    "print('Accuracy: {}'.format(accuracy))\n",
    "print('Precision: {}'.format(precision))\n",
    "print('Recall: {}'.format(recall))\n",
    "print('F1 score: {}'.format(f1score))\n",
    "print('ROC AUC: {}'.format(rocauc))"
   ]
  },
  {
   "cell_type": "markdown",
   "metadata": {},
   "source": [
    "#### Logistic Regression"
   ]
  },
  {
   "cell_type": "code",
   "execution_count": 57,
   "metadata": {},
   "outputs": [
    {
     "name": "stdout",
     "output_type": "stream",
     "text": [
      "Accuracy: 0.55\n",
      "Precision: 0.26666666666666666\n",
      "Recall: 0.36363636363636365\n",
      "F1 score: 0.30769230769230765\n",
      "ROC AUC: 0.49216300940438873\n"
     ]
    }
   ],
   "source": [
    "# Initializing model\n",
    "clf_ros_log = LogisticRegression().fit(X_resampled, y_resampled) \n",
    "y_pred = clf_ros_log.predict(X_val)\n",
    "\n",
    "# Save scores of model\n",
    "accuracy = accuracy_score(y_val, y_pred)\n",
    "precision = precision_score(y_val, y_pred)\n",
    "recall = recall_score(y_val, y_pred)\n",
    "f1score = f1_score(y_val, y_pred)   \n",
    "rocauc = roc_auc_score(y_val, y_pred)\n",
    "\n",
    "print('Accuracy: {}'.format(accuracy))\n",
    "print('Precision: {}'.format(precision))\n",
    "print('Recall: {}'.format(recall))\n",
    "print('F1 score: {}'.format(f1score))\n",
    "print('ROC AUC: {}'.format(rocauc))"
   ]
  },
  {
   "cell_type": "markdown",
   "metadata": {},
   "source": [
    "#### Training, Validating and Scoring All Models (Simple Validation SMOTE with scaling)"
   ]
  },
  {
   "cell_type": "code",
   "execution_count": 58,
   "metadata": {},
   "outputs": [],
   "source": [
    "def sv_smote(model, X, y, name):\n",
    "    global accuracy, precision, recall, f1score, rocauc, d, df_model\n",
    "    from imblearn.over_sampling import SMOTE\n",
    "    \n",
    "    X_train_val, X_test, y_train_val, y_test = train_test_split(X, y, test_size=0.2, random_state=10)\n",
    "    X_train, X_val, y_train, y_val = train_test_split(X_train_val, y_train_val, test_size=0.25, random_state=10)\n",
    "    \n",
    "    if model == model:\n",
    "            \n",
    "        # Creating the SMOTE data\n",
    "        X_smoted, y_smoted = SMOTE(random_state=42).fit_sample(X_train, y_train)\n",
    "        \n",
    "        # Initializing model\n",
    "        clf_model = model.fit(X_smoted, y_smoted) \n",
    "        y_pred = clf_model.predict(X_val)\n",
    "        \n",
    "        # Save scores of model\n",
    "        accuracy = np.array(accuracy_score(y_val, y_pred))\n",
    "        precision = np.array(precision_score(y_val, y_pred))\n",
    "        recall = np.array(recall_score(y_val, y_pred))\n",
    "        f1score = np.array(f1_score(y_val, y_pred))   \n",
    "        rocauc = np.array(roc_auc_score(y_val, y_pred))\n",
    "        \n",
    "    \n",
    "        d = {'model': [name],\n",
    "             'accuracy': [accuracy],\n",
    "             'precision': [precision],\n",
    "             'recall': [recall],\n",
    "             'f1score': [f1score],\n",
    "             'rocauc': [rocauc]}\n",
    "        \n",
    "    df_model = pd.DataFrame(d)\n",
    "    return df_model\n",
    "   "
   ]
  },
  {
   "cell_type": "code",
   "execution_count": 59,
   "metadata": {},
   "outputs": [
    {
     "data": {
      "text/html": [
       "<div>\n",
       "<style scoped>\n",
       "    .dataframe tbody tr th:only-of-type {\n",
       "        vertical-align: middle;\n",
       "    }\n",
       "\n",
       "    .dataframe tbody tr th {\n",
       "        vertical-align: top;\n",
       "    }\n",
       "\n",
       "    .dataframe thead th {\n",
       "        text-align: right;\n",
       "    }\n",
       "</style>\n",
       "<table border=\"1\" class=\"dataframe\">\n",
       "  <thead>\n",
       "    <tr style=\"text-align: right;\">\n",
       "      <th></th>\n",
       "      <th>model</th>\n",
       "      <th>accuracy</th>\n",
       "      <th>precision</th>\n",
       "      <th>recall</th>\n",
       "      <th>f1score</th>\n",
       "      <th>rocauc</th>\n",
       "    </tr>\n",
       "  </thead>\n",
       "  <tbody>\n",
       "    <tr>\n",
       "      <th>0</th>\n",
       "      <td>GaussianNB</td>\n",
       "      <td>0.475</td>\n",
       "      <td>0.2222222222222222</td>\n",
       "      <td>0.36363636363636365</td>\n",
       "      <td>0.27586206896551724</td>\n",
       "      <td>0.4404388714733542</td>\n",
       "    </tr>\n",
       "    <tr>\n",
       "      <th>1</th>\n",
       "      <td>LogisticRegression</td>\n",
       "      <td>0.5125</td>\n",
       "      <td>0.24242424242424243</td>\n",
       "      <td>0.36363636363636365</td>\n",
       "      <td>0.2909090909090909</td>\n",
       "      <td>0.4663009404388715</td>\n",
       "    </tr>\n",
       "    <tr>\n",
       "      <th>2</th>\n",
       "      <td>KNN</td>\n",
       "      <td>0.525</td>\n",
       "      <td>0.2777777777777778</td>\n",
       "      <td>0.45454545454545453</td>\n",
       "      <td>0.3448275862068966</td>\n",
       "      <td>0.5031347962382445</td>\n",
       "    </tr>\n",
       "    <tr>\n",
       "      <th>3</th>\n",
       "      <td>DecisionTree</td>\n",
       "      <td>0.65</td>\n",
       "      <td>0.35</td>\n",
       "      <td>0.3181818181818182</td>\n",
       "      <td>0.3333333333333333</td>\n",
       "      <td>0.5470219435736677</td>\n",
       "    </tr>\n",
       "    <tr>\n",
       "      <th>4</th>\n",
       "      <td>RandomForest</td>\n",
       "      <td>0.6</td>\n",
       "      <td>0.25</td>\n",
       "      <td>0.22727272727272727</td>\n",
       "      <td>0.23809523809523808</td>\n",
       "      <td>0.48432601880877746</td>\n",
       "    </tr>\n",
       "    <tr>\n",
       "      <th>5</th>\n",
       "      <td>LinearSVC</td>\n",
       "      <td>0.5</td>\n",
       "      <td>0.23529411764705882</td>\n",
       "      <td>0.36363636363636365</td>\n",
       "      <td>0.2857142857142857</td>\n",
       "      <td>0.4576802507836991</td>\n",
       "    </tr>\n",
       "  </tbody>\n",
       "</table>\n",
       "</div>"
      ],
      "text/plain": [
       "                model accuracy            precision               recall  \\\n",
       "0          GaussianNB    0.475   0.2222222222222222  0.36363636363636365   \n",
       "1  LogisticRegression   0.5125  0.24242424242424243  0.36363636363636365   \n",
       "2                 KNN    0.525   0.2777777777777778  0.45454545454545453   \n",
       "3        DecisionTree     0.65                 0.35   0.3181818181818182   \n",
       "4        RandomForest      0.6                 0.25  0.22727272727272727   \n",
       "5           LinearSVC      0.5  0.23529411764705882  0.36363636363636365   \n",
       "\n",
       "               f1score               rocauc  \n",
       "0  0.27586206896551724   0.4404388714733542  \n",
       "1   0.2909090909090909   0.4663009404388715  \n",
       "2   0.3448275862068966   0.5031347962382445  \n",
       "3   0.3333333333333333   0.5470219435736677  \n",
       "4  0.23809523809523808  0.48432601880877746  \n",
       "5   0.2857142857142857   0.4576802507836991  "
      ]
     },
     "execution_count": 59,
     "metadata": {},
     "output_type": "execute_result"
    }
   ],
   "source": [
    "gnb = GaussianNB()\n",
    "logit = LogisticRegression()\n",
    "knn = KNeighborsClassifier()\n",
    "decisiontree = DecisionTreeClassifier()\n",
    "randomforest = RandomForestClassifier()\n",
    "linearsvc = LinearSVC()\n",
    "\n",
    "X = data_with_dummy.iloc[:, 1:]\n",
    "y = data_with_dummy.iloc[:, 0]\n",
    "\n",
    "# Scale the data\n",
    "std = StandardScaler()\n",
    "std.fit(X.values)\n",
    "\n",
    "# Scale the predictor\n",
    "X = std.transform(X.values)\n",
    "\n",
    "# to concat all models\n",
    "df_models = pd.concat([sv_smote(gnb, X, y, 'GaussianNB'),\n",
    "                       sv_smote(logit, X, y, 'LogisticRegression'),\n",
    "                       sv_smote(knn, X, y, 'KNN'),\n",
    "                       sv_smote(decisiontree, X, y, 'DecisionTree'),\n",
    "                       sv_smote(randomforest, X, y, 'RandomForest'),\n",
    "                       sv_smote(linearsvc, X, y, 'LinearSVC')\n",
    "                       ], axis=0).reset_index()\n",
    "\n",
    "df_models_scale_smote = df_models.drop('index', axis=1)\n",
    "df_models_scale_smote"
   ]
  },
  {
   "cell_type": "markdown",
   "metadata": {},
   "source": [
    "### Final Model Evaluation for GaussianNB"
   ]
  },
  {
   "cell_type": "code",
   "execution_count": 60,
   "metadata": {},
   "outputs": [],
   "source": [
    "X = data_with_dummy.iloc[:, 1:]\n",
    "y = data_with_dummy.iloc[:, 0]"
   ]
  },
  {
   "cell_type": "code",
   "execution_count": 61,
   "metadata": {},
   "outputs": [],
   "source": [
    "X_train, X_test, y_train, y_test = train_test_split(X, y, test_size=.2, random_state=10)"
   ]
  },
  {
   "cell_type": "code",
   "execution_count": 62,
   "metadata": {},
   "outputs": [],
   "source": [
    "## Scale the data \n",
    "std = StandardScaler()\n",
    "std.fit(X_train.values)\n",
    "\n",
    "## Scale the Predictors on both the train and test set\n",
    "X_train_scaled = std.transform(X_train.values)\n",
    "X_test_scaled = std.transform(X_test.values)"
   ]
  },
  {
   "cell_type": "code",
   "execution_count": 63,
   "metadata": {},
   "outputs": [
    {
     "data": {
      "text/plain": [
       "GaussianNB()"
      ]
     },
     "execution_count": 63,
     "metadata": {},
     "output_type": "execute_result"
    }
   ],
   "source": [
    "gnb = GaussianNB()\n",
    "gnb.fit(X_train_scaled, y_train)"
   ]
  },
  {
   "cell_type": "code",
   "execution_count": 64,
   "metadata": {},
   "outputs": [
    {
     "name": "stdout",
     "output_type": "stream",
     "text": [
      "Accuracy Score for GaussianNB: 0.6125\n",
      "Precision Score for GaussianNB: 0.4\n",
      "Recall Score for GaussianNB: 0.38461538461538464\n",
      "ROC AUC Score for GaussianNB: 0.5534188034188035\n",
      "\n",
      "Classification report for GaussianNB:\n",
      "               precision    recall  f1-score   support\n",
      "\n",
      "           0       0.71      0.72      0.72        54\n",
      "           1       0.40      0.38      0.39        26\n",
      "\n",
      "    accuracy                           0.61        80\n",
      "   macro avg       0.55      0.55      0.55        80\n",
      "weighted avg       0.61      0.61      0.61        80\n",
      "\n",
      "Confusion Matrix for GaussianNB:\n",
      " [[39 15]\n",
      " [16 10]]\n"
     ]
    }
   ],
   "source": [
    "y_predict = gnb.predict(X_test_scaled)\n",
    "\n",
    "print('Accuracy Score for GaussianNB: {}'.format(accuracy_score(y_test, y_predict)))\n",
    "print('Precision Score for GaussianNB: {}'.format(precision_score(y_test, y_predict)))\n",
    "print('Recall Score for GaussianNB: {}'.format(recall_score(y_test, y_predict)))\n",
    "print('ROC AUC Score for GaussianNB: {}\\n'.format(roc_auc_score(y_test, y_predict)))\n",
    "\n",
    "print('Classification report for GaussianNB:\\n {}'.format(classification_report(y_test, y_predict)))\n",
    "print('Confusion Matrix for GaussianNB:\\n {}'.format(confusion_matrix(y_test, y_predict)))"
   ]
  },
  {
   "cell_type": "code",
   "execution_count": 65,
   "metadata": {},
   "outputs": [
    {
     "data": {
      "image/png": "[encoded data removed]",
      "text/plain": [
       "<Figure size 480x320 with 1 Axes>"
      ]
     },
     "metadata": {
      "needs_background": "light"
     },
     "output_type": "display_data"
    }
   ],
   "source": [
    "# We can also use the probabilities to make a curve showing us how recall \n",
    "# and thresholds trade off \n",
    "\n",
    "precision_curve, recall_curve, threshold_curve = precision_recall_curve(y_test, gnb.predict_proba(X_test_scaled)[:,1])\n",
    "\n",
    "plt.figure(dpi=80)\n",
    "plt.xlim([0, 1])\n",
    "plt.ylim([0, 1])\n",
    "plt.plot(threshold_curve, precision_curve[1:],label='precision')\n",
    "plt.plot(threshold_curve, recall_curve[1:], label='recall')\n",
    "plt.legend(loc='lower left')\n",
    "plt.xlabel('Threshold (above this probability, label as admitted)');\n",
    "plt.title('Precision and Recall Curves');"
   ]
  },
  {
   "cell_type": "code",
   "execution_count": 66,
   "metadata": {
    "scrolled": true
   },
   "outputs": [
    {
     "name": "stdout",
     "output_type": "stream",
     "text": [
      "Accuracy Score for GaussianNB: 0.5875\n",
      "Precision Score for GaussianNB: 0.4\n",
      "Recall Score for GaussianNB: 0.5384615384615384\n",
      "ROC AUC Score for GaussianNB: 0.5747863247863247\n",
      "\n",
      "Classification report for GaussianNB:\n",
      "               precision    recall  f1-score   support\n",
      "\n",
      "           0       0.73      0.61      0.67        54\n",
      "           1       0.40      0.54      0.46        26\n",
      "\n",
      "    accuracy                           0.59        80\n",
      "   macro avg       0.57      0.57      0.56        80\n",
      "weighted avg       0.62      0.59      0.60        80\n",
      "\n",
      "Confusion Matrix for GaussianNB:\n",
      " [[33 21]\n",
      " [12 14]]\n"
     ]
    }
   ],
   "source": [
    "y_predict = (gnb.predict_proba(X_test_scaled)[:,1] >= 0.37)\n",
    "\n",
    "print('Accuracy Score for GaussianNB: {}'.format(accuracy_score(y_test, y_predict)))\n",
    "print('Precision Score for GaussianNB: {}'.format(precision_score(y_test, y_predict)))\n",
    "print('Recall Score for GaussianNB: {}'.format(recall_score(y_test, y_predict)))\n",
    "print('ROC AUC Score for GaussianNB: {}\\n'.format(roc_auc_score(y_test, y_predict)))\n",
    "\n",
    "print('Classification report for GaussianNB:\\n {}'.format(classification_report(y_test, y_predict)))\n",
    "print('Confusion Matrix for GaussianNB:\\n {}'.format(confusion_matrix(y_test, y_predict)))"
   ]
  },
  {
   "cell_type": "markdown",
   "metadata": {},
   "source": [
    "### Threshold tuning for GaussianNB model"
   ]
  },
  {
   "cell_type": "code",
   "execution_count": 84,
   "metadata": {},
   "outputs": [],
   "source": [
    "def model_threshold_tuning(model, X, y, model_name):\n",
    "    \n",
    "    # Splitting the data into 80% training data and 20% testing data\n",
    "    X_train, X_test, y_train, y_test = train_test_split(X, y, test_size=0.2, random_state=10)\n",
    "    \n",
    "    \n",
    "    model.fit(X_train, y_train)\n",
    "    optimal_th = 0.5   # start with default threshold value\n",
    "    \n",
    "    for i in range(0,3):\n",
    "        score_list = []\n",
    "        print('\\nLooping decimal place', i+1) \n",
    "        th_list = [np.linspace(optimal_th-0.4999, optimal_th+0.4999, 11), \n",
    "                  # eg [ 0.0001 , 0.1008, 0.2006, 0.3004, 0.4002, 0.5, 0.5998, 0.6996, 0.7994, 0.8992, 0.9999 ]\n",
    "                 np.linspace(optimal_th-0.1, optimal_th+0.1, 21), \n",
    "                  # eg 0.3xx [ 0.2 , 0.21, 0.22, 0.23, 0.24, 0.25, 0.26, 0.27, 0.28, 0.29, 0.3 , 0.31, 0.32, 0.33, 0.34, 0.35, 0.36, 0.37, 0.38, 0.39, 0.4 ]\n",
    "                 np.linspace(optimal_th-0.01, optimal_th+0.01, 21)]\n",
    "                  # eg 0.30x [ 0.29 , 0.291, 0.292, 0.293, 0.294, 0.295, 0.296, 0.297, 0.298, 0.299, 0.3  , 0.301, 0.302, 0.303, 0.304, 0.305, 0.306, 0.307, 0.308, 0.309, 0.31 ]\n",
    "        for th in th_list[i]:\n",
    "            if th<0: \n",
    "                score_list.append(-1)\n",
    "                continue\n",
    "            y_pred = (model.predict_proba(X_test)[:,1] >= th)\n",
    "            precision = precision_score(y_test, y_pred)\n",
    "            score_list.append(precision)\n",
    "            print('{:.3f}->{:.4f}'.format(th, precision), end=',  ')   # display score in 4 decimal pl\n",
    "        optimal_th = float(th_list[i][score_list.index(max(score_list))])\n",
    "        \n",
    "    print('\\n')\n",
    "    print('optimal precision score = {:.4f}'.format(max(score_list)))\n",
    "    print('optimal threshold = {:.3f}'.format(optimal_th))\n",
    "    \n",
    "    # Confusion Matrix at th = 0.23\n",
    "    y_pred = (model.predict_proba(X_test)[:,1] >= 0.23)\n",
    "    print('\\nAdjust threshold to 0.23:')\n",
    "    print('Precision: {:.4f},   Recall: {:.4f},   F1 Score: {:.4f}'.format(\n",
    "        precision_score(y_test, y_pred), recall_score(y_test, y_pred), f1_score(y_test, y_pred)))\n",
    "    print(model_name, 'confusion matrix: \\n', confusion_matrix(y_test, y_pred))\n",
    "    \n",
    "    # Confusion Matrix at th = 0.25\n",
    "    y_pred = (model.predict_proba(X_test)[:,1] >= 0.25)\n",
    "    print('\\nAdjust threshold to 0.25:')\n",
    "    print('Precision: {:.4f},   Recall: {:.4f},   F1 Score: {:.4f}'.format(\n",
    "        precision_score(y_test, y_pred), recall_score(y_test, y_pred), f1_score(y_test, y_pred)))\n",
    "    print(model_name, 'confusion matrix: \\n', confusion_matrix(y_test, y_pred))\n",
    "    \n",
    "    \n",
    "    # Confusion Matrix at th = 0.35\n",
    "    y_pred = (model.predict_proba(X_test)[:,1] >= 0.35)\n",
    "    print('\\nAdjust threshold to 0.35:')\n",
    "    print('Precision: {:.4f},   Recall: {:.4f},   F1 Score: {:.4f}'.format(\n",
    "        precision_score(y_test, y_pred), recall_score(y_test, y_pred), f1_score(y_test, y_pred)))\n",
    "    print(model_name, 'confusion matrix: \\n', confusion_matrix(y_test, y_pred))\n",
    "    \n",
    "    # Confusion Matrix at th = 0.36\n",
    "    y_pred = (model.predict_proba(X_test)[:,1] >= 0.36)\n",
    "    print('\\nAdjust threshold to 0.36:')\n",
    "    print('Precision: {:.4f},   Recall: {:.4f},   F1 Score: {:.4f}'.format(\n",
    "        precision_score(y_test, y_pred), recall_score(y_test, y_pred), f1_score(y_test, y_pred)))\n",
    "    print(model_name, 'confusion matrix: \\n', confusion_matrix(y_test, y_pred))\n",
    "\n",
    "    # Confusion Matrix at th = 0.37\n",
    "    y_pred = (model.predict_proba(X_test)[:,1] >= 0.37)\n",
    "    print('\\nDefault threshold of 0.37:')\n",
    "    print('Precision: {:.4f},   Recall: {:.4f},   F1 Score: {:.4f}'.format(\n",
    "        precision_score(y_test, y_pred), recall_score(y_test, y_pred), f1_score(y_test, y_pred)))\n",
    "    print(model_name, 'confusion matrix: \\n', confusion_matrix(y_test, y_pred))\n",
    "\n",
    "    # Confusion Matrix at th = 0.38\n",
    "    y_pred = (model.predict_proba(X_test)[:,1] >= 0.38)\n",
    "    print('\\nDefault threshold of 0.38:')\n",
    "    print('Precision: {:.4f},   Recall: {:.4f},   F1 Score: {:.4f}'.format(\n",
    "        precision_score(y_test, y_pred), recall_score(y_test, y_pred), f1_score(y_test, y_pred)))\n",
    "    print(model_name, 'confusion matrix: \\n', confusion_matrix(y_test, y_pred))\n",
    "\n",
    "    # Confusion Matrix at th = 0.39\n",
    "    y_pred = (model.predict_proba(X_test)[:,1] >= 0.39)\n",
    "    print('\\nDefault threshold of 0.39:')\n",
    "    print('Precision: {:.4f},   Recall: {:.4f},   F1 Score: {:.4f}'.format(\n",
    "        precision_score(y_test, y_pred), recall_score(y_test, y_pred), f1_score(y_test, y_pred)))\n",
    "    print(model_name, 'confusion matrix: \\n', confusion_matrix(y_test, y_pred))\n",
    "\n",
    "    \n",
    "    # Confusion Matrix at th = 0.5\n",
    "    y_pred = (model.predict_proba(X_test)[:,1] >= 0.50) \n",
    "    print('\\nAdjust threshold to 0.5:')\n",
    "    print('Precision: {:.4f},   Recall: {:.4f},   F1 Score: {:.4f}'.format(\n",
    "        precision_score(y_test, y_pred), recall_score(y_test, y_pred), f1_score(y_test, y_pred)))\n",
    "    print(model_name, 'confusion matrix: \\n', confusion_matrix(y_test, y_pred))\n",
    "\n",
    "    \n",
    "    # Confusion Matrix at optimal th\n",
    "    y_pred = (model.predict_proba(X_test)[:,1] >= optimal_th)\n",
    "    print('\\nOptimal threshold {:.3f}'.format(optimal_th))\n",
    "    precision    = precision_score(y_test, y_pred)\n",
    "    recall       = recall_score(y_test, y_pred)\n",
    "    f1score      = f1_score(y_test, y_pred)\n",
    "    print('Precision: {:.4f},   Recall: {:.4f},   F1 Score: {:.4f}'.format(precision, recall, f1score))\n",
    "    print(model_name, 'confusion matrix: \\n', confusion_matrix(y_test, y_pred))"
   ]
  },
  {
   "cell_type": "code",
   "execution_count": 85,
   "metadata": {},
   "outputs": [
    {
     "name": "stdout",
     "output_type": "stream",
     "text": [
      "\n",
      "\"\"\"\"\"\" GaussianNB \"\"\"\"\"\"\n",
      "\n",
      "Looping decimal place 1\n",
      "0.000->0.3250,  0.100->0.3770,  0.200->0.3878,  0.300->0.3750,  0.400->0.4062,  0.500->0.4000,  0.600->0.4000,  0.700->0.2000,  0.800->0.0000,  0.900->0.0000,  1.000->0.0000,  \n",
      "Looping decimal place 2\n",
      "0.300->0.3750,  0.310->0.3590,  0.320->0.3784,  0.330->0.3889,  0.340->0.3889,  0.350->0.3889,  0.360->0.3889,  0.370->0.4000,  0.380->0.3939,  0.390->0.4062,  0.400->0.4062,  0.410->0.4000,  0.420->0.4286,  0.430->0.4286,  0.440->0.4074,  0.450->0.3846,  0.460->0.3846,  0.470->0.4000,  0.480->0.4000,  0.490->0.4000,  0.500->0.4000,  \n",
      "Looping decimal place 3\n",
      "0.410->0.4000,  0.411->0.4000,  0.412->0.4000,  0.413->0.4138,  0.414->0.4286,  0.415->0.4286,  0.416->0.4286,  0.417->0.4286,  0.418->0.4286,  0.419->0.4286,  0.420->0.4286,  0.421->0.4286,  0.422->0.4286,  0.423->0.4286,  0.424->0.4286,  0.425->0.4286,  0.426->0.4286,  0.427->0.4286,  0.428->0.4286,  0.429->0.4286,  0.430->0.4286,  \n",
      "\n",
      "optimal precision score = 0.4286\n",
      "optimal threshold = 0.414\n",
      "\n",
      "Adjust threshold to 0.23:\n",
      "Precision: 0.3617,   Recall: 0.6538,   F1 Score: 0.4658\n",
      "GaussianNB confusion matrix: \n",
      " [[24 30]\n",
      " [ 9 17]]\n",
      "\n",
      "Adjust threshold to 0.25:\n",
      "Precision: 0.3409,   Recall: 0.5769,   F1 Score: 0.4286\n",
      "GaussianNB confusion matrix: \n",
      " [[25 29]\n",
      " [11 15]]\n",
      "\n",
      "Adjust threshold to 0.35:\n",
      "Precision: 0.3889,   Recall: 0.5385,   F1 Score: 0.4516\n",
      "GaussianNB confusion matrix: \n",
      " [[32 22]\n",
      " [12 14]]\n",
      "\n",
      "Adjust threshold to 0.36:\n",
      "Precision: 0.3889,   Recall: 0.5385,   F1 Score: 0.4516\n",
      "GaussianNB confusion matrix: \n",
      " [[32 22]\n",
      " [12 14]]\n",
      "\n",
      "Default threshold of 0.37:\n",
      "Precision: 0.4000,   Recall: 0.5385,   F1 Score: 0.4590\n",
      "GaussianNB confusion matrix: \n",
      " [[33 21]\n",
      " [12 14]]\n",
      "\n",
      "Default threshold of 0.38:\n",
      "Precision: 0.3939,   Recall: 0.5000,   F1 Score: 0.4407\n",
      "GaussianNB confusion matrix: \n",
      " [[34 20]\n",
      " [13 13]]\n",
      "\n",
      "Default threshold of 0.39:\n",
      "Precision: 0.4062,   Recall: 0.5000,   F1 Score: 0.4483\n",
      "GaussianNB confusion matrix: \n",
      " [[35 19]\n",
      " [13 13]]\n",
      "\n",
      "Adjust threshold to 0.5:\n",
      "Precision: 0.4000,   Recall: 0.3846,   F1 Score: 0.3922\n",
      "GaussianNB confusion matrix: \n",
      " [[39 15]\n",
      " [16 10]]\n",
      "\n",
      "Optimal threshold 0.414\n",
      "Precision: 0.4286,   Recall: 0.4615,   F1 Score: 0.4444\n",
      "GaussianNB confusion matrix: \n",
      " [[38 16]\n",
      " [14 12]]\n"
     ]
    }
   ],
   "source": [
    "# Separate data into X and Y components\n",
    "X = data_with_dummy.iloc[:, 1:]\n",
    "y = data_with_dummy.iloc[:, 0]\n",
    "\n",
    "## Scale data \n",
    "std = StandardScaler()\n",
    "std.fit(X.values)\n",
    "\n",
    "## Scale the Predictors\n",
    "X = std.transform(X.values)\n",
    "\n",
    "print('\\n\"\"\"\"\"\" GaussianNB \"\"\"\"\"\"')\n",
    "gnb = GaussianNB()\n",
    "model_threshold_ranges = model_threshold_tuning(gnb, X, y, 'GaussianNB')"
   ]
  },
  {
   "cell_type": "code",
   "execution_count": 69,
   "metadata": {},
   "outputs": [],
   "source": [
    "def make_confusion_matrix(model, X, y, threshold):\n",
    "    \n",
    "    # Splitting the data into 80% training data and 20% testing data\n",
    "    X_train, X_test, y_train, y_test = train_test_split(X, y, test_size=0.2, random_state=10)\n",
    "    \n",
    "    model.fit(X_train, y_train)\n",
    "    \n",
    "    # Predict class 1 if probability of being in class 1 is greater than threshold\n",
    "    # (model.predict(X_test) does this automatically with a threshold of 0.5)\n",
    "    \n",
    "    y_predict = (model.predict_proba(X_test)[:, 1] >= threshold)  # This line is important\n",
    "    # Converts your probabilities into True and False\n",
    "    # model.predict_proba(X_test) print this one out first\n",
    "    # model.predict_proba(X_test)[:, 1] then this one\n",
    "    # model.predict_proba(X_test)[:, 1] >= threshold then this one\n",
    "    \n",
    "    admission_confusion = confusion_matrix(y_test, y_predict)\n",
    "    fig, ax = plt.subplots(dpi=80)    \n",
    "    g = sns.heatmap(admission_confusion, cmap=plt.cm.Reds, annot=True, annot_kws={\"size\":20}, square=True, fmt='d',\n",
    "                    xticklabels=['No admit', 'Admit'],\n",
    "                    yticklabels=['No admit', 'Admit']);\n",
    "\n",
    "    # Changing the size of the xticks and ytick labels\n",
    "    ax.set_yticklabels(g.get_yticklabels(), size=10);\n",
    "    ax.set_xticklabels(g.get_xticklabels(), size=10);\n",
    "        \n",
    "    # Changing axis orientation & setting titles\n",
    "    ax.set_xlabel('Prediction', size=15)\n",
    "    ax.set_ylabel('Actual', rotation=0, labelpad=40,size=15)\n",
    "        \n",
    "    # Prevent Heatmap Cut-Off Issue\n",
    "    #bottom, top = ax.get_ylim()\n",
    "    #ax.set_ylim(bottom + 0.5, top - 0.5)"
   ]
  },
  {
   "cell_type": "code",
   "execution_count": 70,
   "metadata": {},
   "outputs": [
    {
     "data": {
      "image/png": "[encoded data removed]",
      "text/plain": [
       "<Figure size 480x320 with 2 Axes>"
      ]
     },
     "metadata": {
      "needs_background": "light"
     },
     "output_type": "display_data"
    }
   ],
   "source": [
    "make_confusion_matrix(gnb, X, y, 0.5)"
   ]
  },
  {
   "cell_type": "code",
   "execution_count": 71,
   "metadata": {},
   "outputs": [
    {
     "data": {
      "image/png": "[encoded data removed]",
      "text/plain": [
       "<Figure size 480x320 with 2 Axes>"
      ]
     },
     "metadata": {
      "needs_background": "light"
     },
     "output_type": "display_data"
    }
   ],
   "source": [
    "make_confusion_matrix(gnb, X, y, 0.37)"
   ]
  },
  {
   "cell_type": "code",
   "execution_count": null,
   "metadata": {},
   "outputs": [],
   "source": []
  }
 ],
 "metadata": {
  "kernelspec": {
   "display_name": "Python [conda env:metis]",
   "language": "python",
   "name": "conda-env-metis-py"
  },
  "language_info": {
   "codemirror_mode": {
    "name": "ipython",
    "version": 3
   },
   "file_extension": ".py",
   "mimetype": "text/x-python",
   "name": "python",
   "nbconvert_exporter": "python",
   "pygments_lexer": "ipython3",
   "version": "3.7.8"
  }
 },
 "nbformat": 4,
 "nbformat_minor": 4
}
